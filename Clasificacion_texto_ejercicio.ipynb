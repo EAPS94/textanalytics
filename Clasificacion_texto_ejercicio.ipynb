{
  "nbformat": 4,
  "nbformat_minor": 0,
  "metadata": {
    "colab": {
      "provenance": [],
      "collapsed_sections": [],
      "authorship_tag": "ABX9TyO1+m9ya+O4vC5GVWbYfbzR",
      "include_colab_link": true
    },
    "kernelspec": {
      "name": "python3",
      "display_name": "Python 3"
    },
    "language_info": {
      "name": "python"
    }
  },
  "cells": [
    {
      "cell_type": "markdown",
      "metadata": {
        "id": "view-in-github",
        "colab_type": "text"
      },
      "source": [
        "<a href=\"https://colab.research.google.com/github/joseogg/textanalytics/blob/main/Clasificacion_texto_ejercicio.ipynb\" target=\"_parent\"><img src=\"https://colab.research.google.com/assets/colab-badge.svg\" alt=\"Open In Colab\"/></a>"
      ]
    },
    {
      "cell_type": "markdown",
      "source": [
        "# Clasificación de Texto"
      ],
      "metadata": {
        "id": "IbuzIGhBOkXN"
      }
    },
    {
      "cell_type": "markdown",
      "source": [
        "## Librerías"
      ],
      "metadata": {
        "id": "lxgw5Gx3OoAO"
      }
    },
    {
      "cell_type": "code",
      "execution_count": null,
      "metadata": {
        "id": "Dd_EK8BJ6uHe",
        "colab": {
          "base_uri": "https://localhost:8080/"
        },
        "outputId": "2a530fd0-d3af-4bf1-c9ba-ced78dd83ef3"
      },
      "outputs": [
        {
          "output_type": "stream",
          "name": "stdout",
          "text": [
            "Looking in indexes: https://pypi.org/simple, https://us-python.pkg.dev/colab-wheels/public/simple/\n",
            "Requirement already satisfied: contractions in /usr/local/lib/python3.7/dist-packages (0.1.72)\n",
            "Requirement already satisfied: textsearch>=0.0.21 in /usr/local/lib/python3.7/dist-packages (from contractions) (0.0.24)\n",
            "Requirement already satisfied: pyahocorasick in /usr/local/lib/python3.7/dist-packages (from textsearch>=0.0.21->contractions) (1.4.4)\n",
            "Requirement already satisfied: anyascii in /usr/local/lib/python3.7/dist-packages (from textsearch>=0.0.21->contractions) (0.3.1)\n"
          ]
        }
      ],
      "source": [
        "!python -m pip install contractions\n",
        "\n",
        "import numpy as np\n",
        "import matplotlib.pyplot as plt\n",
        "import pandas as pd\n",
        "import nltk\n",
        "import re\n",
        "import spacy\n",
        "import contractions\n",
        "from sklearn.datasets import fetch_20newsgroups\n",
        "import warnings\n",
        "\n",
        "warnings.filterwarnings(\"ignore\")"
      ]
    },
    {
      "cell_type": "markdown",
      "source": [
        "## Extracción de datos sobre noticias"
      ],
      "metadata": {
        "id": "4BtjKPT6O-xR"
      }
    },
    {
      "cell_type": "code",
      "source": [
        "data = fetch_20newsgroups(subset=\"all\", shuffle=True, remove=(\"headers\", \"footers\", \"quotes\"))\n",
        "mapa_etiquetas = dict(enumerate(data.target_names))\n",
        "mapa_etiquetas"
      ],
      "metadata": {
        "id": "RHgjokaQ6x52",
        "colab": {
          "base_uri": "https://localhost:8080/"
        },
        "outputId": "d932e275-b538-4a46-9bc5-b70559863c34"
      },
      "execution_count": null,
      "outputs": [
        {
          "output_type": "execute_result",
          "data": {
            "text/plain": [
              "{0: 'alt.atheism',\n",
              " 1: 'comp.graphics',\n",
              " 2: 'comp.os.ms-windows.misc',\n",
              " 3: 'comp.sys.ibm.pc.hardware',\n",
              " 4: 'comp.sys.mac.hardware',\n",
              " 5: 'comp.windows.x',\n",
              " 6: 'misc.forsale',\n",
              " 7: 'rec.autos',\n",
              " 8: 'rec.motorcycles',\n",
              " 9: 'rec.sport.baseball',\n",
              " 10: 'rec.sport.hockey',\n",
              " 11: 'sci.crypt',\n",
              " 12: 'sci.electronics',\n",
              " 13: 'sci.med',\n",
              " 14: 'sci.space',\n",
              " 15: 'soc.religion.christian',\n",
              " 16: 'talk.politics.guns',\n",
              " 17: 'talk.politics.mideast',\n",
              " 18: 'talk.politics.misc',\n",
              " 19: 'talk.religion.misc'}"
            ]
          },
          "metadata": {},
          "execution_count": 2
        }
      ]
    },
    {
      "cell_type": "markdown",
      "source": [
        "## Creación de DataFrame"
      ],
      "metadata": {
        "id": "9w7B5V5oPGBg"
      }
    },
    {
      "cell_type": "code",
      "source": [
        "corpus, etiqueta_nums, etiqueta_noms = (data.data, data.target, \n",
        "                                       [mapa_etiquetas[etiqueta] for etiqueta in data.target])\n",
        "\n",
        "datos = pd.DataFrame({\"articulo\": corpus, \"etiqueta_num\": etiqueta_nums, \"etiqueta_nom\": etiqueta_noms})\n",
        "\n",
        "print(datos.shape)\n",
        "datos.head(10)"
      ],
      "metadata": {
        "colab": {
          "base_uri": "https://localhost:8080/",
          "height": 380
        },
        "id": "XTceRhPB7Sy-",
        "outputId": "7031cec0-3abd-477b-be70-7d45453c2945"
      },
      "execution_count": null,
      "outputs": [
        {
          "output_type": "stream",
          "name": "stdout",
          "text": [
            "(18846, 3)\n"
          ]
        },
        {
          "output_type": "execute_result",
          "data": {
            "text/plain": [
              "                                            articulo  etiqueta_num  \\\n",
              "0  \\n\\nI am sure some bashers of Pens fans are pr...            10   \n",
              "1  My brother is in the market for a high-perform...             3   \n",
              "2  \\n\\n\\n\\n\\tFinally you said what you dream abou...            17   \n",
              "3  \\nThink!\\n\\nIt's the SCSI card doing the DMA t...             3   \n",
              "4  1)    I have an old Jasmine drive which I cann...             4   \n",
              "5  \\n\\nBack in high school I worked as a lab assi...            12   \n",
              "6  \\n\\nAE is in Dallas...try 214/241-6060 or 214/...             4   \n",
              "7  \\n[stuff deleted]\\n\\nOk, here's the solution t...            10   \n",
              "8  \\n\\n\\nYeah, it's the second one.  And I believ...            10   \n",
              "9  \\nIf a Christian means someone who believes in...            19   \n",
              "\n",
              "               etiqueta_nom  \n",
              "0          rec.sport.hockey  \n",
              "1  comp.sys.ibm.pc.hardware  \n",
              "2     talk.politics.mideast  \n",
              "3  comp.sys.ibm.pc.hardware  \n",
              "4     comp.sys.mac.hardware  \n",
              "5           sci.electronics  \n",
              "6     comp.sys.mac.hardware  \n",
              "7          rec.sport.hockey  \n",
              "8          rec.sport.hockey  \n",
              "9        talk.religion.misc  "
            ],
            "text/html": [
              "\n",
              "  <div id=\"df-78f14bb1-70f7-4fb2-9d9e-01d1c01240f3\">\n",
              "    <div class=\"colab-df-container\">\n",
              "      <div>\n",
              "<style scoped>\n",
              "    .dataframe tbody tr th:only-of-type {\n",
              "        vertical-align: middle;\n",
              "    }\n",
              "\n",
              "    .dataframe tbody tr th {\n",
              "        vertical-align: top;\n",
              "    }\n",
              "\n",
              "    .dataframe thead th {\n",
              "        text-align: right;\n",
              "    }\n",
              "</style>\n",
              "<table border=\"1\" class=\"dataframe\">\n",
              "  <thead>\n",
              "    <tr style=\"text-align: right;\">\n",
              "      <th></th>\n",
              "      <th>articulo</th>\n",
              "      <th>etiqueta_num</th>\n",
              "      <th>etiqueta_nom</th>\n",
              "    </tr>\n",
              "  </thead>\n",
              "  <tbody>\n",
              "    <tr>\n",
              "      <th>0</th>\n",
              "      <td>\\n\\nI am sure some bashers of Pens fans are pr...</td>\n",
              "      <td>10</td>\n",
              "      <td>rec.sport.hockey</td>\n",
              "    </tr>\n",
              "    <tr>\n",
              "      <th>1</th>\n",
              "      <td>My brother is in the market for a high-perform...</td>\n",
              "      <td>3</td>\n",
              "      <td>comp.sys.ibm.pc.hardware</td>\n",
              "    </tr>\n",
              "    <tr>\n",
              "      <th>2</th>\n",
              "      <td>\\n\\n\\n\\n\\tFinally you said what you dream abou...</td>\n",
              "      <td>17</td>\n",
              "      <td>talk.politics.mideast</td>\n",
              "    </tr>\n",
              "    <tr>\n",
              "      <th>3</th>\n",
              "      <td>\\nThink!\\n\\nIt's the SCSI card doing the DMA t...</td>\n",
              "      <td>3</td>\n",
              "      <td>comp.sys.ibm.pc.hardware</td>\n",
              "    </tr>\n",
              "    <tr>\n",
              "      <th>4</th>\n",
              "      <td>1)    I have an old Jasmine drive which I cann...</td>\n",
              "      <td>4</td>\n",
              "      <td>comp.sys.mac.hardware</td>\n",
              "    </tr>\n",
              "    <tr>\n",
              "      <th>5</th>\n",
              "      <td>\\n\\nBack in high school I worked as a lab assi...</td>\n",
              "      <td>12</td>\n",
              "      <td>sci.electronics</td>\n",
              "    </tr>\n",
              "    <tr>\n",
              "      <th>6</th>\n",
              "      <td>\\n\\nAE is in Dallas...try 214/241-6060 or 214/...</td>\n",
              "      <td>4</td>\n",
              "      <td>comp.sys.mac.hardware</td>\n",
              "    </tr>\n",
              "    <tr>\n",
              "      <th>7</th>\n",
              "      <td>\\n[stuff deleted]\\n\\nOk, here's the solution t...</td>\n",
              "      <td>10</td>\n",
              "      <td>rec.sport.hockey</td>\n",
              "    </tr>\n",
              "    <tr>\n",
              "      <th>8</th>\n",
              "      <td>\\n\\n\\nYeah, it's the second one.  And I believ...</td>\n",
              "      <td>10</td>\n",
              "      <td>rec.sport.hockey</td>\n",
              "    </tr>\n",
              "    <tr>\n",
              "      <th>9</th>\n",
              "      <td>\\nIf a Christian means someone who believes in...</td>\n",
              "      <td>19</td>\n",
              "      <td>talk.religion.misc</td>\n",
              "    </tr>\n",
              "  </tbody>\n",
              "</table>\n",
              "</div>\n",
              "      <button class=\"colab-df-convert\" onclick=\"convertToInteractive('df-78f14bb1-70f7-4fb2-9d9e-01d1c01240f3')\"\n",
              "              title=\"Convert this dataframe to an interactive table.\"\n",
              "              style=\"display:none;\">\n",
              "        \n",
              "  <svg xmlns=\"http://www.w3.org/2000/svg\" height=\"24px\"viewBox=\"0 0 24 24\"\n",
              "       width=\"24px\">\n",
              "    <path d=\"M0 0h24v24H0V0z\" fill=\"none\"/>\n",
              "    <path d=\"M18.56 5.44l.94 2.06.94-2.06 2.06-.94-2.06-.94-.94-2.06-.94 2.06-2.06.94zm-11 1L8.5 8.5l.94-2.06 2.06-.94-2.06-.94L8.5 2.5l-.94 2.06-2.06.94zm10 10l.94 2.06.94-2.06 2.06-.94-2.06-.94-.94-2.06-.94 2.06-2.06.94z\"/><path d=\"M17.41 7.96l-1.37-1.37c-.4-.4-.92-.59-1.43-.59-.52 0-1.04.2-1.43.59L10.3 9.45l-7.72 7.72c-.78.78-.78 2.05 0 2.83L4 21.41c.39.39.9.59 1.41.59.51 0 1.02-.2 1.41-.59l7.78-7.78 2.81-2.81c.8-.78.8-2.07 0-2.86zM5.41 20L4 18.59l7.72-7.72 1.47 1.35L5.41 20z\"/>\n",
              "  </svg>\n",
              "      </button>\n",
              "      \n",
              "  <style>\n",
              "    .colab-df-container {\n",
              "      display:flex;\n",
              "      flex-wrap:wrap;\n",
              "      gap: 12px;\n",
              "    }\n",
              "\n",
              "    .colab-df-convert {\n",
              "      background-color: #E8F0FE;\n",
              "      border: none;\n",
              "      border-radius: 50%;\n",
              "      cursor: pointer;\n",
              "      display: none;\n",
              "      fill: #1967D2;\n",
              "      height: 32px;\n",
              "      padding: 0 0 0 0;\n",
              "      width: 32px;\n",
              "    }\n",
              "\n",
              "    .colab-df-convert:hover {\n",
              "      background-color: #E2EBFA;\n",
              "      box-shadow: 0px 1px 2px rgba(60, 64, 67, 0.3), 0px 1px 3px 1px rgba(60, 64, 67, 0.15);\n",
              "      fill: #174EA6;\n",
              "    }\n",
              "\n",
              "    [theme=dark] .colab-df-convert {\n",
              "      background-color: #3B4455;\n",
              "      fill: #D2E3FC;\n",
              "    }\n",
              "\n",
              "    [theme=dark] .colab-df-convert:hover {\n",
              "      background-color: #434B5C;\n",
              "      box-shadow: 0px 1px 3px 1px rgba(0, 0, 0, 0.15);\n",
              "      filter: drop-shadow(0px 1px 2px rgba(0, 0, 0, 0.3));\n",
              "      fill: #FFFFFF;\n",
              "    }\n",
              "  </style>\n",
              "\n",
              "      <script>\n",
              "        const buttonEl =\n",
              "          document.querySelector('#df-78f14bb1-70f7-4fb2-9d9e-01d1c01240f3 button.colab-df-convert');\n",
              "        buttonEl.style.display =\n",
              "          google.colab.kernel.accessAllowed ? 'block' : 'none';\n",
              "\n",
              "        async function convertToInteractive(key) {\n",
              "          const element = document.querySelector('#df-78f14bb1-70f7-4fb2-9d9e-01d1c01240f3');\n",
              "          const dataTable =\n",
              "            await google.colab.kernel.invokeFunction('convertToInteractive',\n",
              "                                                     [key], {});\n",
              "          if (!dataTable) return;\n",
              "\n",
              "          const docLinkHtml = 'Like what you see? Visit the ' +\n",
              "            '<a target=\"_blank\" href=https://colab.research.google.com/notebooks/data_table.ipynb>data table notebook</a>'\n",
              "            + ' to learn more about interactive tables.';\n",
              "          element.innerHTML = '';\n",
              "          dataTable['output_type'] = 'display_data';\n",
              "          await google.colab.output.renderOutput(dataTable, element);\n",
              "          const docLink = document.createElement('div');\n",
              "          docLink.innerHTML = docLinkHtml;\n",
              "          element.appendChild(docLink);\n",
              "        }\n",
              "      </script>\n",
              "    </div>\n",
              "  </div>\n",
              "  "
            ]
          },
          "metadata": {},
          "execution_count": 3
        }
      ]
    },
    {
      "cell_type": "markdown",
      "source": [
        "# Quitando noticias nulas"
      ],
      "metadata": {
        "id": "Ru_bLE4UQD22"
      }
    },
    {
      "cell_type": "code",
      "source": [
        "total_nulos = datos[datos.articulo.str.strip() == \"\"].shape[0]\n",
        "print(\"Documentos vacíos:\", total_nulos)"
      ],
      "metadata": {
        "colab": {
          "base_uri": "https://localhost:8080/"
        },
        "id": "WrVS2Hx17WW8",
        "outputId": "d74de47c-0eac-4e7b-d84a-da3c148b212c"
      },
      "execution_count": null,
      "outputs": [
        {
          "output_type": "stream",
          "name": "stdout",
          "text": [
            "Documentos vacíos: 515\n"
          ]
        }
      ]
    },
    {
      "cell_type": "code",
      "source": [
        "datos = datos[~(datos.articulo.str.strip() == \"\")]\n",
        "datos.shape"
      ],
      "metadata": {
        "colab": {
          "base_uri": "https://localhost:8080/"
        },
        "id": "UwFJcrVG7bAs",
        "outputId": "eae3cd88-d8d4-4b94-94be-b065e1e1ce3d"
      },
      "execution_count": null,
      "outputs": [
        {
          "output_type": "execute_result",
          "data": {
            "text/plain": [
              "(18331, 3)"
            ]
          },
          "metadata": {},
          "execution_count": 5
        }
      ]
    },
    {
      "cell_type": "markdown",
      "source": [
        "## Normalización de las noticias:\n",
        "### Contracciones, Stopwords, Lematización"
      ],
      "metadata": {
        "id": "QMDE2mw0QQjh"
      }
    },
    {
      "cell_type": "code",
      "source": [
        "!python -m spacy download en_core_web_sm   \n",
        "#!python -m spacy download es_core_news_sm  \n",
        "nltk.download(\"stopwords\")\n",
        "\n",
        "nlp = spacy.load(\"en_core_web_sm\")\n",
        "stopwords = nltk.corpus.stopwords.words(\"english\")\n",
        "df = pd.DataFrame(columns=[\"articulo\", \"articulo_limpio\", \"etiqueta_num\", \"etiqueta_nom\"])\n",
        "df[\"etiqueta_num\"] = df[\"etiqueta_num\"].astype(\"int64\")\n",
        "for registro in datos.values:\n",
        "  registro = {\"articulo\": registro[0], \"articulo_limpio\": \"\", \"etiqueta_num\": registro[1], \"etiqueta_nom\": registro[2]}\n",
        "  articulo = registro[\"articulo\"] # toma solo el articulo\n",
        "\n",
        "  articulo_expandido = \"\"\n",
        "  for palabra in articulo.split():\n",
        "    articulo_expandido += contractions.fix(palabra) + \" \"  \n",
        "  articulo = articulo_expandido.strip().lower()\n",
        "  articulo = articulo.lower()\n",
        "  articulo = re.sub(\"[^A-Za-z]+\", \" \", articulo)\n",
        "  articulo_limpio = \"\"\n",
        "  for palabra in articulo.split():\n",
        "    if palabra not in stopwords:\n",
        "        articulo_limpio += palabra + \" \"\n",
        "  \n",
        "  documento = nlp(articulo_limpio.strip(), disable=[\"ner\", \"parser\", \"textcat\"])\n",
        "  articulo_lematizado = \" \"\n",
        "  for palabra in documento:\n",
        "    articulo_lematizado += palabra.lemma_ + \" \"\n",
        "  if articulo_lematizado.strip() != \"\":\n",
        "    registro[\"articulo_limpio\"] = articulo_lematizado\n",
        "    df = df.append(registro, ignore_index = True)\n",
        "\n",
        "datos = df\n",
        "datos"
      ],
      "metadata": {
        "colab": {
          "base_uri": "https://localhost:8080/",
          "height": 1000
        },
        "id": "ZL4X1Zuj8lxZ",
        "outputId": "b8413e88-7f61-44d1-a7b4-02275da4dcfa"
      },
      "execution_count": null,
      "outputs": [
        {
          "output_type": "stream",
          "name": "stdout",
          "text": [
            "2022-10-12 17:20:05.282767: E tensorflow/stream_executor/cuda/cuda_driver.cc:271] failed call to cuInit: CUDA_ERROR_NO_DEVICE: no CUDA-capable device is detected\n",
            "Looking in indexes: https://pypi.org/simple, https://us-python.pkg.dev/colab-wheels/public/simple/\n",
            "Collecting en-core-web-sm==3.4.0\n",
            "  Downloading https://github.com/explosion/spacy-models/releases/download/en_core_web_sm-3.4.0/en_core_web_sm-3.4.0-py3-none-any.whl (12.8 MB)\n",
            "\u001b[K     |████████████████████████████████| 12.8 MB 5.2 MB/s \n",
            "\u001b[?25hRequirement already satisfied: spacy<3.5.0,>=3.4.0 in /usr/local/lib/python3.7/dist-packages (from en-core-web-sm==3.4.0) (3.4.1)\n",
            "Requirement already satisfied: cymem<2.1.0,>=2.0.2 in /usr/local/lib/python3.7/dist-packages (from spacy<3.5.0,>=3.4.0->en-core-web-sm==3.4.0) (2.0.6)\n",
            "Requirement already satisfied: srsly<3.0.0,>=2.4.3 in /usr/local/lib/python3.7/dist-packages (from spacy<3.5.0,>=3.4.0->en-core-web-sm==3.4.0) (2.4.4)\n",
            "Requirement already satisfied: thinc<8.2.0,>=8.1.0 in /usr/local/lib/python3.7/dist-packages (from spacy<3.5.0,>=3.4.0->en-core-web-sm==3.4.0) (8.1.2)\n",
            "Requirement already satisfied: tqdm<5.0.0,>=4.38.0 in /usr/local/lib/python3.7/dist-packages (from spacy<3.5.0,>=3.4.0->en-core-web-sm==3.4.0) (4.64.1)\n",
            "Requirement already satisfied: wasabi<1.1.0,>=0.9.1 in /usr/local/lib/python3.7/dist-packages (from spacy<3.5.0,>=3.4.0->en-core-web-sm==3.4.0) (0.10.1)\n",
            "Requirement already satisfied: catalogue<2.1.0,>=2.0.6 in /usr/local/lib/python3.7/dist-packages (from spacy<3.5.0,>=3.4.0->en-core-web-sm==3.4.0) (2.0.8)\n",
            "Requirement already satisfied: requests<3.0.0,>=2.13.0 in /usr/local/lib/python3.7/dist-packages (from spacy<3.5.0,>=3.4.0->en-core-web-sm==3.4.0) (2.23.0)\n",
            "Requirement already satisfied: preshed<3.1.0,>=3.0.2 in /usr/local/lib/python3.7/dist-packages (from spacy<3.5.0,>=3.4.0->en-core-web-sm==3.4.0) (3.0.7)\n",
            "Requirement already satisfied: pydantic!=1.8,!=1.8.1,<1.10.0,>=1.7.4 in /usr/local/lib/python3.7/dist-packages (from spacy<3.5.0,>=3.4.0->en-core-web-sm==3.4.0) (1.9.2)\n",
            "Requirement already satisfied: murmurhash<1.1.0,>=0.28.0 in /usr/local/lib/python3.7/dist-packages (from spacy<3.5.0,>=3.4.0->en-core-web-sm==3.4.0) (1.0.8)\n",
            "Requirement already satisfied: pathy>=0.3.5 in /usr/local/lib/python3.7/dist-packages (from spacy<3.5.0,>=3.4.0->en-core-web-sm==3.4.0) (0.6.2)\n",
            "Requirement already satisfied: typer<0.5.0,>=0.3.0 in /usr/local/lib/python3.7/dist-packages (from spacy<3.5.0,>=3.4.0->en-core-web-sm==3.4.0) (0.4.2)\n",
            "Requirement already satisfied: typing-extensions<4.2.0,>=3.7.4 in /usr/local/lib/python3.7/dist-packages (from spacy<3.5.0,>=3.4.0->en-core-web-sm==3.4.0) (4.1.1)\n",
            "Requirement already satisfied: jinja2 in /usr/local/lib/python3.7/dist-packages (from spacy<3.5.0,>=3.4.0->en-core-web-sm==3.4.0) (2.11.3)\n",
            "Requirement already satisfied: numpy>=1.15.0 in /usr/local/lib/python3.7/dist-packages (from spacy<3.5.0,>=3.4.0->en-core-web-sm==3.4.0) (1.21.6)\n",
            "Requirement already satisfied: spacy-legacy<3.1.0,>=3.0.9 in /usr/local/lib/python3.7/dist-packages (from spacy<3.5.0,>=3.4.0->en-core-web-sm==3.4.0) (3.0.10)\n",
            "Requirement already satisfied: spacy-loggers<2.0.0,>=1.0.0 in /usr/local/lib/python3.7/dist-packages (from spacy<3.5.0,>=3.4.0->en-core-web-sm==3.4.0) (1.0.3)\n",
            "Requirement already satisfied: packaging>=20.0 in /usr/local/lib/python3.7/dist-packages (from spacy<3.5.0,>=3.4.0->en-core-web-sm==3.4.0) (21.3)\n",
            "Requirement already satisfied: setuptools in /usr/local/lib/python3.7/dist-packages (from spacy<3.5.0,>=3.4.0->en-core-web-sm==3.4.0) (57.4.0)\n",
            "Requirement already satisfied: langcodes<4.0.0,>=3.2.0 in /usr/local/lib/python3.7/dist-packages (from spacy<3.5.0,>=3.4.0->en-core-web-sm==3.4.0) (3.3.0)\n",
            "Requirement already satisfied: zipp>=0.5 in /usr/local/lib/python3.7/dist-packages (from catalogue<2.1.0,>=2.0.6->spacy<3.5.0,>=3.4.0->en-core-web-sm==3.4.0) (3.8.1)\n",
            "Requirement already satisfied: pyparsing!=3.0.5,>=2.0.2 in /usr/local/lib/python3.7/dist-packages (from packaging>=20.0->spacy<3.5.0,>=3.4.0->en-core-web-sm==3.4.0) (3.0.9)\n",
            "Requirement already satisfied: smart-open<6.0.0,>=5.2.1 in /usr/local/lib/python3.7/dist-packages (from pathy>=0.3.5->spacy<3.5.0,>=3.4.0->en-core-web-sm==3.4.0) (5.2.1)\n",
            "Requirement already satisfied: idna<3,>=2.5 in /usr/local/lib/python3.7/dist-packages (from requests<3.0.0,>=2.13.0->spacy<3.5.0,>=3.4.0->en-core-web-sm==3.4.0) (2.10)\n",
            "Requirement already satisfied: urllib3!=1.25.0,!=1.25.1,<1.26,>=1.21.1 in /usr/local/lib/python3.7/dist-packages (from requests<3.0.0,>=2.13.0->spacy<3.5.0,>=3.4.0->en-core-web-sm==3.4.0) (1.24.3)\n",
            "Requirement already satisfied: chardet<4,>=3.0.2 in /usr/local/lib/python3.7/dist-packages (from requests<3.0.0,>=2.13.0->spacy<3.5.0,>=3.4.0->en-core-web-sm==3.4.0) (3.0.4)\n",
            "Requirement already satisfied: certifi>=2017.4.17 in /usr/local/lib/python3.7/dist-packages (from requests<3.0.0,>=2.13.0->spacy<3.5.0,>=3.4.0->en-core-web-sm==3.4.0) (2022.9.24)\n",
            "Requirement already satisfied: blis<0.8.0,>=0.7.8 in /usr/local/lib/python3.7/dist-packages (from thinc<8.2.0,>=8.1.0->spacy<3.5.0,>=3.4.0->en-core-web-sm==3.4.0) (0.7.8)\n",
            "Requirement already satisfied: confection<1.0.0,>=0.0.1 in /usr/local/lib/python3.7/dist-packages (from thinc<8.2.0,>=8.1.0->spacy<3.5.0,>=3.4.0->en-core-web-sm==3.4.0) (0.0.2)\n",
            "Requirement already satisfied: click<9.0.0,>=7.1.1 in /usr/local/lib/python3.7/dist-packages (from typer<0.5.0,>=0.3.0->spacy<3.5.0,>=3.4.0->en-core-web-sm==3.4.0) (7.1.2)\n",
            "Requirement already satisfied: MarkupSafe>=0.23 in /usr/local/lib/python3.7/dist-packages (from jinja2->spacy<3.5.0,>=3.4.0->en-core-web-sm==3.4.0) (2.0.1)\n",
            "\u001b[38;5;2m✔ Download and installation successful\u001b[0m\n",
            "You can now load the package via spacy.load('en_core_web_sm')\n"
          ]
        },
        {
          "output_type": "stream",
          "name": "stderr",
          "text": [
            "[nltk_data] Downloading package stopwords to /root/nltk_data...\n",
            "[nltk_data]   Unzipping corpora/stopwords.zip.\n"
          ]
        },
        {
          "output_type": "execute_result",
          "data": {
            "text/plain": [
              "                                                articulo  \\\n",
              "0      \\n\\nI am sure some bashers of Pens fans are pr...   \n",
              "1      My brother is in the market for a high-perform...   \n",
              "2      \\n\\n\\n\\n\\tFinally you said what you dream abou...   \n",
              "3      \\nThink!\\n\\nIt's the SCSI card doing the DMA t...   \n",
              "4      1)    I have an old Jasmine drive which I cann...   \n",
              "...                                                  ...   \n",
              "18297  DN> From: nyeda@cnsvax.uwec.edu (David Nye)\\nD...   \n",
              "18298  \\nNot in isolated ground recepticles (usually ...   \n",
              "18299  I just installed a DX2-66 CPU in a clone mothe...   \n",
              "18300  \\nWouldn't this require a hyper-sphere.  In 3-...   \n",
              "18301  After a tip from Gary Crum (crum@fcom.cc.utah....   \n",
              "\n",
              "                                         articulo_limpio  etiqueta_num  \\\n",
              "0       sure basher pen fan pretty confused lack kind...            10   \n",
              "1       brother market high performance video card su...             3   \n",
              "2       finally say dream mediterranean new area grea...            17   \n",
              "3       think scsi card dma transfer disk scsi card d...             3   \n",
              "4       old jasmine drive can not use new system unde...             4   \n",
              "...                                                  ...           ...   \n",
              "18297   dn nyeda cnsvax uwec edu david nye dn neurolo...            13   \n",
              "18298   isolated ground recepticle usually unusual co...            12   \n",
              "18299   instal dx cpu clone motherboard try mount cpu...             3   \n",
              "18300   would require hyper sphere space point specif...             1   \n",
              "18301   tip gary crum crum fcom cc utah edu get phone...             7   \n",
              "\n",
              "                   etiqueta_nom  \n",
              "0              rec.sport.hockey  \n",
              "1      comp.sys.ibm.pc.hardware  \n",
              "2         talk.politics.mideast  \n",
              "3      comp.sys.ibm.pc.hardware  \n",
              "4         comp.sys.mac.hardware  \n",
              "...                         ...  \n",
              "18297                   sci.med  \n",
              "18298           sci.electronics  \n",
              "18299  comp.sys.ibm.pc.hardware  \n",
              "18300             comp.graphics  \n",
              "18301                 rec.autos  \n",
              "\n",
              "[18302 rows x 4 columns]"
            ],
            "text/html": [
              "\n",
              "  <div id=\"df-a53f9283-3411-4520-a0f0-1ea77a7fdb6f\">\n",
              "    <div class=\"colab-df-container\">\n",
              "      <div>\n",
              "<style scoped>\n",
              "    .dataframe tbody tr th:only-of-type {\n",
              "        vertical-align: middle;\n",
              "    }\n",
              "\n",
              "    .dataframe tbody tr th {\n",
              "        vertical-align: top;\n",
              "    }\n",
              "\n",
              "    .dataframe thead th {\n",
              "        text-align: right;\n",
              "    }\n",
              "</style>\n",
              "<table border=\"1\" class=\"dataframe\">\n",
              "  <thead>\n",
              "    <tr style=\"text-align: right;\">\n",
              "      <th></th>\n",
              "      <th>articulo</th>\n",
              "      <th>articulo_limpio</th>\n",
              "      <th>etiqueta_num</th>\n",
              "      <th>etiqueta_nom</th>\n",
              "    </tr>\n",
              "  </thead>\n",
              "  <tbody>\n",
              "    <tr>\n",
              "      <th>0</th>\n",
              "      <td>\\n\\nI am sure some bashers of Pens fans are pr...</td>\n",
              "      <td>sure basher pen fan pretty confused lack kind...</td>\n",
              "      <td>10</td>\n",
              "      <td>rec.sport.hockey</td>\n",
              "    </tr>\n",
              "    <tr>\n",
              "      <th>1</th>\n",
              "      <td>My brother is in the market for a high-perform...</td>\n",
              "      <td>brother market high performance video card su...</td>\n",
              "      <td>3</td>\n",
              "      <td>comp.sys.ibm.pc.hardware</td>\n",
              "    </tr>\n",
              "    <tr>\n",
              "      <th>2</th>\n",
              "      <td>\\n\\n\\n\\n\\tFinally you said what you dream abou...</td>\n",
              "      <td>finally say dream mediterranean new area grea...</td>\n",
              "      <td>17</td>\n",
              "      <td>talk.politics.mideast</td>\n",
              "    </tr>\n",
              "    <tr>\n",
              "      <th>3</th>\n",
              "      <td>\\nThink!\\n\\nIt's the SCSI card doing the DMA t...</td>\n",
              "      <td>think scsi card dma transfer disk scsi card d...</td>\n",
              "      <td>3</td>\n",
              "      <td>comp.sys.ibm.pc.hardware</td>\n",
              "    </tr>\n",
              "    <tr>\n",
              "      <th>4</th>\n",
              "      <td>1)    I have an old Jasmine drive which I cann...</td>\n",
              "      <td>old jasmine drive can not use new system unde...</td>\n",
              "      <td>4</td>\n",
              "      <td>comp.sys.mac.hardware</td>\n",
              "    </tr>\n",
              "    <tr>\n",
              "      <th>...</th>\n",
              "      <td>...</td>\n",
              "      <td>...</td>\n",
              "      <td>...</td>\n",
              "      <td>...</td>\n",
              "    </tr>\n",
              "    <tr>\n",
              "      <th>18297</th>\n",
              "      <td>DN&gt; From: nyeda@cnsvax.uwec.edu (David Nye)\\nD...</td>\n",
              "      <td>dn nyeda cnsvax uwec edu david nye dn neurolo...</td>\n",
              "      <td>13</td>\n",
              "      <td>sci.med</td>\n",
              "    </tr>\n",
              "    <tr>\n",
              "      <th>18298</th>\n",
              "      <td>\\nNot in isolated ground recepticles (usually ...</td>\n",
              "      <td>isolated ground recepticle usually unusual co...</td>\n",
              "      <td>12</td>\n",
              "      <td>sci.electronics</td>\n",
              "    </tr>\n",
              "    <tr>\n",
              "      <th>18299</th>\n",
              "      <td>I just installed a DX2-66 CPU in a clone mothe...</td>\n",
              "      <td>instal dx cpu clone motherboard try mount cpu...</td>\n",
              "      <td>3</td>\n",
              "      <td>comp.sys.ibm.pc.hardware</td>\n",
              "    </tr>\n",
              "    <tr>\n",
              "      <th>18300</th>\n",
              "      <td>\\nWouldn't this require a hyper-sphere.  In 3-...</td>\n",
              "      <td>would require hyper sphere space point specif...</td>\n",
              "      <td>1</td>\n",
              "      <td>comp.graphics</td>\n",
              "    </tr>\n",
              "    <tr>\n",
              "      <th>18301</th>\n",
              "      <td>After a tip from Gary Crum (crum@fcom.cc.utah....</td>\n",
              "      <td>tip gary crum crum fcom cc utah edu get phone...</td>\n",
              "      <td>7</td>\n",
              "      <td>rec.autos</td>\n",
              "    </tr>\n",
              "  </tbody>\n",
              "</table>\n",
              "<p>18302 rows × 4 columns</p>\n",
              "</div>\n",
              "      <button class=\"colab-df-convert\" onclick=\"convertToInteractive('df-a53f9283-3411-4520-a0f0-1ea77a7fdb6f')\"\n",
              "              title=\"Convert this dataframe to an interactive table.\"\n",
              "              style=\"display:none;\">\n",
              "        \n",
              "  <svg xmlns=\"http://www.w3.org/2000/svg\" height=\"24px\"viewBox=\"0 0 24 24\"\n",
              "       width=\"24px\">\n",
              "    <path d=\"M0 0h24v24H0V0z\" fill=\"none\"/>\n",
              "    <path d=\"M18.56 5.44l.94 2.06.94-2.06 2.06-.94-2.06-.94-.94-2.06-.94 2.06-2.06.94zm-11 1L8.5 8.5l.94-2.06 2.06-.94-2.06-.94L8.5 2.5l-.94 2.06-2.06.94zm10 10l.94 2.06.94-2.06 2.06-.94-2.06-.94-.94-2.06-.94 2.06-2.06.94z\"/><path d=\"M17.41 7.96l-1.37-1.37c-.4-.4-.92-.59-1.43-.59-.52 0-1.04.2-1.43.59L10.3 9.45l-7.72 7.72c-.78.78-.78 2.05 0 2.83L4 21.41c.39.39.9.59 1.41.59.51 0 1.02-.2 1.41-.59l7.78-7.78 2.81-2.81c.8-.78.8-2.07 0-2.86zM5.41 20L4 18.59l7.72-7.72 1.47 1.35L5.41 20z\"/>\n",
              "  </svg>\n",
              "      </button>\n",
              "      \n",
              "  <style>\n",
              "    .colab-df-container {\n",
              "      display:flex;\n",
              "      flex-wrap:wrap;\n",
              "      gap: 12px;\n",
              "    }\n",
              "\n",
              "    .colab-df-convert {\n",
              "      background-color: #E8F0FE;\n",
              "      border: none;\n",
              "      border-radius: 50%;\n",
              "      cursor: pointer;\n",
              "      display: none;\n",
              "      fill: #1967D2;\n",
              "      height: 32px;\n",
              "      padding: 0 0 0 0;\n",
              "      width: 32px;\n",
              "    }\n",
              "\n",
              "    .colab-df-convert:hover {\n",
              "      background-color: #E2EBFA;\n",
              "      box-shadow: 0px 1px 2px rgba(60, 64, 67, 0.3), 0px 1px 3px 1px rgba(60, 64, 67, 0.15);\n",
              "      fill: #174EA6;\n",
              "    }\n",
              "\n",
              "    [theme=dark] .colab-df-convert {\n",
              "      background-color: #3B4455;\n",
              "      fill: #D2E3FC;\n",
              "    }\n",
              "\n",
              "    [theme=dark] .colab-df-convert:hover {\n",
              "      background-color: #434B5C;\n",
              "      box-shadow: 0px 1px 3px 1px rgba(0, 0, 0, 0.15);\n",
              "      filter: drop-shadow(0px 1px 2px rgba(0, 0, 0, 0.3));\n",
              "      fill: #FFFFFF;\n",
              "    }\n",
              "  </style>\n",
              "\n",
              "      <script>\n",
              "        const buttonEl =\n",
              "          document.querySelector('#df-a53f9283-3411-4520-a0f0-1ea77a7fdb6f button.colab-df-convert');\n",
              "        buttonEl.style.display =\n",
              "          google.colab.kernel.accessAllowed ? 'block' : 'none';\n",
              "\n",
              "        async function convertToInteractive(key) {\n",
              "          const element = document.querySelector('#df-a53f9283-3411-4520-a0f0-1ea77a7fdb6f');\n",
              "          const dataTable =\n",
              "            await google.colab.kernel.invokeFunction('convertToInteractive',\n",
              "                                                     [key], {});\n",
              "          if (!dataTable) return;\n",
              "\n",
              "          const docLinkHtml = 'Like what you see? Visit the ' +\n",
              "            '<a target=\"_blank\" href=https://colab.research.google.com/notebooks/data_table.ipynb>data table notebook</a>'\n",
              "            + ' to learn more about interactive tables.';\n",
              "          element.innerHTML = '';\n",
              "          dataTable['output_type'] = 'display_data';\n",
              "          await google.colab.output.renderOutput(dataTable, element);\n",
              "          const docLink = document.createElement('div');\n",
              "          docLink.innerHTML = docLinkHtml;\n",
              "          element.appendChild(docLink);\n",
              "        }\n",
              "      </script>\n",
              "    </div>\n",
              "  </div>\n",
              "  "
            ]
          },
          "metadata": {},
          "execution_count": 6
        }
      ]
    },
    {
      "cell_type": "code",
      "source": [
        "datos.info()"
      ],
      "metadata": {
        "colab": {
          "base_uri": "https://localhost:8080/"
        },
        "id": "fan8pYZB7dbl",
        "outputId": "9a487bfa-c838-4ed3-e9c8-5403f63f571c"
      },
      "execution_count": null,
      "outputs": [
        {
          "output_type": "stream",
          "name": "stdout",
          "text": [
            "<class 'pandas.core.frame.DataFrame'>\n",
            "RangeIndex: 18302 entries, 0 to 18301\n",
            "Data columns (total 4 columns):\n",
            " #   Column           Non-Null Count  Dtype \n",
            "---  ------           --------------  ----- \n",
            " 0   articulo         18302 non-null  object\n",
            " 1   articulo_limpio  18302 non-null  object\n",
            " 2   etiqueta_num     18302 non-null  int64 \n",
            " 3   etiqueta_nom     18302 non-null  object\n",
            "dtypes: int64(1), object(3)\n",
            "memory usage: 572.1+ KB\n"
          ]
        }
      ]
    },
    {
      "cell_type": "markdown",
      "source": [
        "# Guardar datos normalizados"
      ],
      "metadata": {
        "id": "9e_NU9dUIazl"
      }
    },
    {
      "cell_type": "code",
      "source": [
        "datos.to_csv(\"newsgroups_limpio.csv\", index=False)"
      ],
      "metadata": {
        "id": "yasAJwc1JJvv"
      },
      "execution_count": null,
      "outputs": []
    },
    {
      "cell_type": "code",
      "source": [
        "datos = pd.read_csv(\"newsgroups_limpio.csv\")"
      ],
      "metadata": {
        "id": "R0PckoMZJNFR"
      },
      "execution_count": null,
      "outputs": []
    },
    {
      "cell_type": "code",
      "source": [
        "datos.info()"
      ],
      "metadata": {
        "colab": {
          "base_uri": "https://localhost:8080/"
        },
        "id": "3m-SODLoJN6E",
        "outputId": "53d94804-7d4f-463f-8dc4-099f9d4803b4"
      },
      "execution_count": null,
      "outputs": [
        {
          "output_type": "stream",
          "name": "stdout",
          "text": [
            "<class 'pandas.core.frame.DataFrame'>\n",
            "RangeIndex: 18302 entries, 0 to 18301\n",
            "Data columns (total 4 columns):\n",
            " #   Column           Non-Null Count  Dtype \n",
            "---  ------           --------------  ----- \n",
            " 0   articulo         18302 non-null  object\n",
            " 1   articulo_limpio  18302 non-null  object\n",
            " 2   etiqueta_num     18302 non-null  int64 \n",
            " 3   etiqueta_nom     18302 non-null  object\n",
            "dtypes: int64(1), object(3)\n",
            "memory usage: 572.1+ KB\n"
          ]
        }
      ]
    },
    {
      "cell_type": "markdown",
      "source": [
        "# Creación de datos de entrenamiento y prueba"
      ],
      "metadata": {
        "id": "W_XWjwGtIhVs"
      }
    },
    {
      "cell_type": "code",
      "source": [
        "from sklearn.model_selection import train_test_split\n",
        "\n",
        "train_corpus, test_corpus, train_etiqueta_nums, test_etiqueta_nums, train_etiqueta_noms, test_etiqueta_noms =\\\n",
        "                                 train_test_split(np.array(datos[\"articulo_limpio\"]), np.array(datos[\"etiqueta_num\"]),\n",
        "                                                  np.array(datos[\"etiqueta_nom\"]), test_size=0.33, random_state=1)\n",
        "\n",
        "train_corpus.shape, test_corpus.shape"
      ],
      "metadata": {
        "colab": {
          "base_uri": "https://localhost:8080/"
        },
        "id": "MUwNRy_-JWTf",
        "outputId": "f25eab6c-6d7c-4fb7-c11e-4a41083788c7"
      },
      "execution_count": null,
      "outputs": [
        {
          "output_type": "execute_result",
          "data": {
            "text/plain": [
              "((12262,), (6040,))"
            ]
          },
          "metadata": {},
          "execution_count": 11
        }
      ]
    },
    {
      "cell_type": "markdown",
      "source": [
        "# Contar datos de entrenamiento y prueba para cada clase"
      ],
      "metadata": {
        "id": "XQosRy9SIp2L"
      }
    },
    {
      "cell_type": "code",
      "source": [
        "from collections import Counter\n",
        "\n",
        "trd = dict(Counter(train_etiqueta_noms))\n",
        "tsd = dict(Counter(test_etiqueta_noms))\n",
        "\n",
        "(pd.DataFrame([[key, trd[key], tsd[key]] for key in trd], \n",
        "             columns=[\"etiqueta_num\", \"conteo_entrenamiento\", \"conteo_prueba\"])\n",
        ".sort_values(by=[\"conteo_entrenamiento\", \"conteo_prueba\"],\n",
        "             ascending=False))"
      ],
      "metadata": {
        "colab": {
          "base_uri": "https://localhost:8080/",
          "height": 677
        },
        "id": "WcGhjRtuJcdN",
        "outputId": "f1001254-98d4-417b-8d87-01565a3b05f7"
      },
      "execution_count": null,
      "outputs": [
        {
          "output_type": "execute_result",
          "data": {
            "text/plain": [
              "                etiqueta_num  conteo_entrenamiento  conteo_prueba\n",
              "12           rec.motorcycles                   672            297\n",
              "10            comp.windows.x                   666            314\n",
              "6                  sci.crypt                   652            310\n",
              "5                    sci.med                   650            310\n",
              "9         rec.sport.baseball                   650            302\n",
              "19                 rec.autos                   645            289\n",
              "11  comp.sys.ibm.pc.hardware                   643            320\n",
              "8    comp.os.ms-windows.misc                   636            310\n",
              "16    soc.religion.christian                   633            341\n",
              "3               misc.forsale                   633            326\n",
              "4           rec.sport.hockey                   632            341\n",
              "1                  sci.space                   632            322\n",
              "2              comp.graphics                   630            323\n",
              "0            sci.electronics                   629            327\n",
              "17     comp.sys.mac.hardware                   618            309\n",
              "18     talk.politics.mideast                   615            302\n",
              "14        talk.politics.guns                   601            284\n",
              "7         talk.politics.misc                   518            236\n",
              "13               alt.atheism                   516            263\n",
              "15        talk.religion.misc                   391            214"
            ],
            "text/html": [
              "\n",
              "  <div id=\"df-3da47ac3-abad-4000-b639-9936b1a77f96\">\n",
              "    <div class=\"colab-df-container\">\n",
              "      <div>\n",
              "<style scoped>\n",
              "    .dataframe tbody tr th:only-of-type {\n",
              "        vertical-align: middle;\n",
              "    }\n",
              "\n",
              "    .dataframe tbody tr th {\n",
              "        vertical-align: top;\n",
              "    }\n",
              "\n",
              "    .dataframe thead th {\n",
              "        text-align: right;\n",
              "    }\n",
              "</style>\n",
              "<table border=\"1\" class=\"dataframe\">\n",
              "  <thead>\n",
              "    <tr style=\"text-align: right;\">\n",
              "      <th></th>\n",
              "      <th>etiqueta_num</th>\n",
              "      <th>conteo_entrenamiento</th>\n",
              "      <th>conteo_prueba</th>\n",
              "    </tr>\n",
              "  </thead>\n",
              "  <tbody>\n",
              "    <tr>\n",
              "      <th>12</th>\n",
              "      <td>rec.motorcycles</td>\n",
              "      <td>672</td>\n",
              "      <td>297</td>\n",
              "    </tr>\n",
              "    <tr>\n",
              "      <th>10</th>\n",
              "      <td>comp.windows.x</td>\n",
              "      <td>666</td>\n",
              "      <td>314</td>\n",
              "    </tr>\n",
              "    <tr>\n",
              "      <th>6</th>\n",
              "      <td>sci.crypt</td>\n",
              "      <td>652</td>\n",
              "      <td>310</td>\n",
              "    </tr>\n",
              "    <tr>\n",
              "      <th>5</th>\n",
              "      <td>sci.med</td>\n",
              "      <td>650</td>\n",
              "      <td>310</td>\n",
              "    </tr>\n",
              "    <tr>\n",
              "      <th>9</th>\n",
              "      <td>rec.sport.baseball</td>\n",
              "      <td>650</td>\n",
              "      <td>302</td>\n",
              "    </tr>\n",
              "    <tr>\n",
              "      <th>19</th>\n",
              "      <td>rec.autos</td>\n",
              "      <td>645</td>\n",
              "      <td>289</td>\n",
              "    </tr>\n",
              "    <tr>\n",
              "      <th>11</th>\n",
              "      <td>comp.sys.ibm.pc.hardware</td>\n",
              "      <td>643</td>\n",
              "      <td>320</td>\n",
              "    </tr>\n",
              "    <tr>\n",
              "      <th>8</th>\n",
              "      <td>comp.os.ms-windows.misc</td>\n",
              "      <td>636</td>\n",
              "      <td>310</td>\n",
              "    </tr>\n",
              "    <tr>\n",
              "      <th>16</th>\n",
              "      <td>soc.religion.christian</td>\n",
              "      <td>633</td>\n",
              "      <td>341</td>\n",
              "    </tr>\n",
              "    <tr>\n",
              "      <th>3</th>\n",
              "      <td>misc.forsale</td>\n",
              "      <td>633</td>\n",
              "      <td>326</td>\n",
              "    </tr>\n",
              "    <tr>\n",
              "      <th>4</th>\n",
              "      <td>rec.sport.hockey</td>\n",
              "      <td>632</td>\n",
              "      <td>341</td>\n",
              "    </tr>\n",
              "    <tr>\n",
              "      <th>1</th>\n",
              "      <td>sci.space</td>\n",
              "      <td>632</td>\n",
              "      <td>322</td>\n",
              "    </tr>\n",
              "    <tr>\n",
              "      <th>2</th>\n",
              "      <td>comp.graphics</td>\n",
              "      <td>630</td>\n",
              "      <td>323</td>\n",
              "    </tr>\n",
              "    <tr>\n",
              "      <th>0</th>\n",
              "      <td>sci.electronics</td>\n",
              "      <td>629</td>\n",
              "      <td>327</td>\n",
              "    </tr>\n",
              "    <tr>\n",
              "      <th>17</th>\n",
              "      <td>comp.sys.mac.hardware</td>\n",
              "      <td>618</td>\n",
              "      <td>309</td>\n",
              "    </tr>\n",
              "    <tr>\n",
              "      <th>18</th>\n",
              "      <td>talk.politics.mideast</td>\n",
              "      <td>615</td>\n",
              "      <td>302</td>\n",
              "    </tr>\n",
              "    <tr>\n",
              "      <th>14</th>\n",
              "      <td>talk.politics.guns</td>\n",
              "      <td>601</td>\n",
              "      <td>284</td>\n",
              "    </tr>\n",
              "    <tr>\n",
              "      <th>7</th>\n",
              "      <td>talk.politics.misc</td>\n",
              "      <td>518</td>\n",
              "      <td>236</td>\n",
              "    </tr>\n",
              "    <tr>\n",
              "      <th>13</th>\n",
              "      <td>alt.atheism</td>\n",
              "      <td>516</td>\n",
              "      <td>263</td>\n",
              "    </tr>\n",
              "    <tr>\n",
              "      <th>15</th>\n",
              "      <td>talk.religion.misc</td>\n",
              "      <td>391</td>\n",
              "      <td>214</td>\n",
              "    </tr>\n",
              "  </tbody>\n",
              "</table>\n",
              "</div>\n",
              "      <button class=\"colab-df-convert\" onclick=\"convertToInteractive('df-3da47ac3-abad-4000-b639-9936b1a77f96')\"\n",
              "              title=\"Convert this dataframe to an interactive table.\"\n",
              "              style=\"display:none;\">\n",
              "        \n",
              "  <svg xmlns=\"http://www.w3.org/2000/svg\" height=\"24px\"viewBox=\"0 0 24 24\"\n",
              "       width=\"24px\">\n",
              "    <path d=\"M0 0h24v24H0V0z\" fill=\"none\"/>\n",
              "    <path d=\"M18.56 5.44l.94 2.06.94-2.06 2.06-.94-2.06-.94-.94-2.06-.94 2.06-2.06.94zm-11 1L8.5 8.5l.94-2.06 2.06-.94-2.06-.94L8.5 2.5l-.94 2.06-2.06.94zm10 10l.94 2.06.94-2.06 2.06-.94-2.06-.94-.94-2.06-.94 2.06-2.06.94z\"/><path d=\"M17.41 7.96l-1.37-1.37c-.4-.4-.92-.59-1.43-.59-.52 0-1.04.2-1.43.59L10.3 9.45l-7.72 7.72c-.78.78-.78 2.05 0 2.83L4 21.41c.39.39.9.59 1.41.59.51 0 1.02-.2 1.41-.59l7.78-7.78 2.81-2.81c.8-.78.8-2.07 0-2.86zM5.41 20L4 18.59l7.72-7.72 1.47 1.35L5.41 20z\"/>\n",
              "  </svg>\n",
              "      </button>\n",
              "      \n",
              "  <style>\n",
              "    .colab-df-container {\n",
              "      display:flex;\n",
              "      flex-wrap:wrap;\n",
              "      gap: 12px;\n",
              "    }\n",
              "\n",
              "    .colab-df-convert {\n",
              "      background-color: #E8F0FE;\n",
              "      border: none;\n",
              "      border-radius: 50%;\n",
              "      cursor: pointer;\n",
              "      display: none;\n",
              "      fill: #1967D2;\n",
              "      height: 32px;\n",
              "      padding: 0 0 0 0;\n",
              "      width: 32px;\n",
              "    }\n",
              "\n",
              "    .colab-df-convert:hover {\n",
              "      background-color: #E2EBFA;\n",
              "      box-shadow: 0px 1px 2px rgba(60, 64, 67, 0.3), 0px 1px 3px 1px rgba(60, 64, 67, 0.15);\n",
              "      fill: #174EA6;\n",
              "    }\n",
              "\n",
              "    [theme=dark] .colab-df-convert {\n",
              "      background-color: #3B4455;\n",
              "      fill: #D2E3FC;\n",
              "    }\n",
              "\n",
              "    [theme=dark] .colab-df-convert:hover {\n",
              "      background-color: #434B5C;\n",
              "      box-shadow: 0px 1px 3px 1px rgba(0, 0, 0, 0.15);\n",
              "      filter: drop-shadow(0px 1px 2px rgba(0, 0, 0, 0.3));\n",
              "      fill: #FFFFFF;\n",
              "    }\n",
              "  </style>\n",
              "\n",
              "      <script>\n",
              "        const buttonEl =\n",
              "          document.querySelector('#df-3da47ac3-abad-4000-b639-9936b1a77f96 button.colab-df-convert');\n",
              "        buttonEl.style.display =\n",
              "          google.colab.kernel.accessAllowed ? 'block' : 'none';\n",
              "\n",
              "        async function convertToInteractive(key) {\n",
              "          const element = document.querySelector('#df-3da47ac3-abad-4000-b639-9936b1a77f96');\n",
              "          const dataTable =\n",
              "            await google.colab.kernel.invokeFunction('convertToInteractive',\n",
              "                                                     [key], {});\n",
              "          if (!dataTable) return;\n",
              "\n",
              "          const docLinkHtml = 'Like what you see? Visit the ' +\n",
              "            '<a target=\"_blank\" href=https://colab.research.google.com/notebooks/data_table.ipynb>data table notebook</a>'\n",
              "            + ' to learn more about interactive tables.';\n",
              "          element.innerHTML = '';\n",
              "          dataTable['output_type'] = 'display_data';\n",
              "          await google.colab.output.renderOutput(dataTable, element);\n",
              "          const docLink = document.createElement('div');\n",
              "          docLink.innerHTML = docLinkHtml;\n",
              "          element.appendChild(docLink);\n",
              "        }\n",
              "      </script>\n",
              "    </div>\n",
              "  </div>\n",
              "  "
            ]
          },
          "metadata": {},
          "execution_count": 12
        }
      ]
    },
    {
      "cell_type": "markdown",
      "source": [
        "# Modelo de Bolsa de Palabras"
      ],
      "metadata": {
        "id": "3ffFwFbMI2bs"
      }
    },
    {
      "cell_type": "code",
      "source": [
        "from sklearn.feature_extraction.text import CountVectorizer\n",
        "from sklearn.model_selection import cross_val_score\n",
        "\n",
        "# Construye Bag-of-Words a partir de los datos de entrenamiento\n",
        "cv = CountVectorizer(binary=False, min_df=0.0, max_df=1.0)\n",
        "cv_train_features = cv.fit_transform(train_corpus)\n",
        "# Construye Bag-of-Words a partir de los datos de prueba\n",
        "cv_test_features = cv.transform(test_corpus)\n",
        "print(\"Modelo BOW:> Entrenamiento:\", cv_train_features.shape, \" Prueba:\", cv_test_features.shape)"
      ],
      "metadata": {
        "id": "vNUh89W4Jtl7",
        "colab": {
          "base_uri": "https://localhost:8080/"
        },
        "outputId": "f98eedfa-ade9-428f-fb0d-57285cc2a705"
      },
      "execution_count": null,
      "outputs": [
        {
          "output_type": "stream",
          "name": "stdout",
          "text": [
            "Modelo BOW:> Entrenamiento: (12262, 64183)  Prueba: (6040, 64183)\n"
          ]
        }
      ]
    },
    {
      "cell_type": "markdown",
      "source": [
        "# Bosque Aleatorio con Bolsa de Palabras"
      ],
      "metadata": {
        "id": "qXKi8tYMJJ1R"
      }
    },
    {
      "cell_type": "code",
      "source": [
        "from sklearn.ensemble import RandomForestClassifier\n",
        "\n",
        "bosque = RandomForestClassifier(n_estimators=50, random_state=1)\n",
        "bosque.fit(cv_train_features, train_etiqueta_noms)\n",
        "bosque_bolsa_cv_scores = cross_val_score(bosque, cv_train_features, train_etiqueta_noms, cv=5)\n",
        "bosque_bolsa_cv_mean_score = np.mean(bosque_bolsa_cv_scores)\n",
        "print(\"CV Accuracy (5-fold):\", bosque_bolsa_cv_scores)\n",
        "print(\"Promedio CV Accuracy:\", bosque_bolsa_cv_mean_score)\n",
        "bosque_bolsa_test_score = bosque.score(cv_test_features, test_etiqueta_noms)\n",
        "print(\"Test Accuracy:\", bosque_bolsa_test_score)"
      ],
      "metadata": {
        "colab": {
          "base_uri": "https://localhost:8080/"
        },
        "id": "fxx2xEU9J-9c",
        "outputId": "e9fde497-d14e-43b7-9a01-03cfdd3bb77e"
      },
      "execution_count": null,
      "outputs": [
        {
          "output_type": "stream",
          "name": "stdout",
          "text": [
            "CV Accuracy (5-fold): [0.64573991 0.64370159 0.62846656 0.637031   0.64926591]\n",
            "Promedio CV Accuracy: 0.6408409917210274\n",
            "Test Accuracy: 0.6627483443708609\n"
          ]
        }
      ]
    },
    {
      "cell_type": "markdown",
      "source": [
        "# Regresión Logística con Bolsa de Palabras"
      ],
      "metadata": {
        "id": "YGAZVEf5JOiN"
      }
    },
    {
      "cell_type": "code",
      "source": [
        "from sklearn.linear_model import LogisticRegression\n",
        "\n",
        "regresion_log = LogisticRegression(max_iter=50, random_state=1)\n",
        "regresion_log.fit(cv_train_features, train_etiqueta_noms)\n",
        "regresion_log_bolsa_cv_scores = cross_val_score(regresion_log, cv_train_features, train_etiqueta_noms, cv=5)\n",
        "regresion_log_bolsa_cv_mean_score = np.mean(regresion_log_bolsa_cv_scores)\n",
        "print(\"CV Accuracy (5-fold):\", regresion_log_bolsa_cv_scores)\n",
        "print(\"Promedio CV Accuracy:\", regresion_log_bolsa_cv_mean_score)\n",
        "regresion_log_bolsa_test_score = regresion_log.score(cv_test_features, test_etiqueta_noms)\n",
        "print(\"Test Accuracy:\", regresion_log_bolsa_test_score)"
      ],
      "metadata": {
        "colab": {
          "base_uri": "https://localhost:8080/"
        },
        "id": "JquTqW7KKD-A",
        "outputId": "89a60d75-b057-458d-ad45-3766b745c80a"
      },
      "execution_count": null,
      "outputs": [
        {
          "output_type": "stream",
          "name": "stdout",
          "text": [
            "CV Accuracy (5-fold): [0.6889523  0.69221362 0.6908646  0.67373573 0.70880914]\n",
            "Promedio CV Accuracy: 0.6909150761892918\n",
            "Test Accuracy: 0.6948675496688742\n"
          ]
        }
      ]
    },
    {
      "cell_type": "markdown",
      "source": [
        "# Modelo de TF-IDF"
      ],
      "metadata": {
        "id": "MPGGHQEpJU6g"
      }
    },
    {
      "cell_type": "code",
      "source": [
        "from sklearn.feature_extraction.text import TfidfVectorizer\n",
        "\n",
        "# Construye vector usando TF-IDF a partir de los datos de entrenamiento\n",
        "tv = TfidfVectorizer(use_idf=True, min_df=0.0, max_df=1.0)\n",
        "tv_train_features = tv.fit_transform(train_corpus)\n",
        "# Construye vector usando TF-IDF a partir de los datos de prueba\n",
        "tv_test_features = tv.transform(test_corpus)\n",
        "print(\"Model TF-IDF:> Entrenamiento:\", tv_train_features.shape, \" Prueba:\", tv_test_features.shape)"
      ],
      "metadata": {
        "id": "WSdg5AtgKaJJ",
        "colab": {
          "base_uri": "https://localhost:8080/"
        },
        "outputId": "93f495bf-9af7-4a94-d7d7-a296a10a43e1"
      },
      "execution_count": null,
      "outputs": [
        {
          "output_type": "stream",
          "name": "stdout",
          "text": [
            "Model TF-IDF:> Entrenamiento: (12262, 64183)  Prueba: (6040, 64183)\n"
          ]
        }
      ]
    },
    {
      "cell_type": "markdown",
      "source": [
        "# Bosque aleatorio con TF-IDF"
      ],
      "metadata": {
        "id": "nKardYKgJcyf"
      }
    },
    {
      "cell_type": "code",
      "source": [],
      "metadata": {
        "id": "HkAUoE8pKgtz"
      },
      "execution_count": null,
      "outputs": []
    },
    {
      "cell_type": "markdown",
      "source": [
        "# Regresión Logística con TF-IDF"
      ],
      "metadata": {
        "id": "5Cmh-bA_JhiT"
      }
    },
    {
      "cell_type": "code",
      "source": [],
      "metadata": {
        "id": "r8auYBegKnxt"
      },
      "execution_count": null,
      "outputs": []
    }
  ]
}