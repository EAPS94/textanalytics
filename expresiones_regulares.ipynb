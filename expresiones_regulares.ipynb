{
  "cells": [
    {
      "cell_type": "markdown",
      "metadata": {
        "id": "view-in-github",
        "colab_type": "text"
      },
      "source": [
        "<a href=\"https://colab.research.google.com/github/joseogg/textanalytics/blob/main/expresiones_regulares.ipynb\" target=\"_parent\"><img src=\"https://colab.research.google.com/assets/colab-badge.svg\" alt=\"Open In Colab\"/></a>"
      ]
    },
    {
      "cell_type": "markdown",
      "metadata": {
        "id": "YTk1CxIwsGtR"
      },
      "source": [
        "# Regular Expressions"
      ]
    },
    {
      "cell_type": "code",
      "source": [
        "import re\n",
        "\n",
        "alabanza = \"Python es un excelente lenguaje y es relativamente simple\"\n",
        "usos = \"Me agrada la versatilidad de Python. También uso Python para analizar datos, crear modelos de aprendizaje de máquina y desarrollar aplicaciones Web\"\n",
        "relojes = \"El mod32 de los relojes suizos cuesta $17,000 dólares\"\n",
        "relojes_conversion = \"El mod32 de los relojes suizos cuesta $17,000 dólares o 34,000 pesos\"\n"
      ],
      "metadata": {
        "id": "tm32hr_23e9p"
      },
      "execution_count": null,
      "outputs": []
    },
    {
      "cell_type": "markdown",
      "source": [
        "# findall\n"
      ],
      "metadata": {
        "id": "tEHPzsxz4I96"
      }
    },
    {
      "cell_type": "code",
      "source": [
        "#alabanza = \"Python es un excelente lenguaje y es relativamente simple\"\n",
        "#usos = \"Me agrada la versatilidad de Python. También uso Python para analizar datos, crear modelos de aprendizaje de máquina y desarrollar aplicaciones Web\"\n",
        "\n",
        "print(re.findall(\"es\", alabanza))\n",
        "print(re.findall(\"es\", usos))\n",
        "print(re.findall(\"y\", alabanza))\n",
        "print(re.findall(\"y\", usos))"
      ],
      "metadata": {
        "colab": {
          "base_uri": "https://localhost:8080/"
        },
        "id": "FiIrJDmf4Li2",
        "outputId": "36c94134-adc6-4198-867a-3732706bbb84"
      },
      "execution_count": null,
      "outputs": [
        {
          "output_type": "stream",
          "name": "stdout",
          "text": [
            "['es', 'es']\n",
            "['es', 'es']\n",
            "['y', 'y']\n",
            "['y', 'y', 'y']\n"
          ]
        }
      ]
    },
    {
      "cell_type": "markdown",
      "source": [
        "# search"
      ],
      "metadata": {
        "id": "_8-J6c-D4uZR"
      }
    },
    {
      "cell_type": "code",
      "source": [
        "#alabanza = \"Python es un excelente lenguaje y es relativamente simple\"\n",
        "#usos = \"Me agrada la versatilidad de Python. También uso Python para analizar datos, crear modelos de aprendizaje de máquina y desarrollar aplicaciones Web\"\n",
        "\n",
        "print(re.search(\"es\", alabanza))\n",
        "print(re.search(\"es\", usos))\n",
        "print(re.search(\"y\", alabanza))\n",
        "print(re.search(\"y\", usos))"
      ],
      "metadata": {
        "colab": {
          "base_uri": "https://localhost:8080/"
        },
        "id": "IELajGmj4twv",
        "outputId": "5bcc2a6f-582f-4c5d-e52e-b75dde9c34d8"
      },
      "execution_count": null,
      "outputs": [
        {
          "output_type": "stream",
          "name": "stdout",
          "text": [
            "<re.Match object; span=(7, 9), match='es'>\n",
            "<re.Match object; span=(120, 122), match='es'>\n",
            "<re.Match object; span=(1, 2), match='y'>\n",
            "<re.Match object; span=(30, 31), match='y'>\n"
          ]
        }
      ]
    },
    {
      "cell_type": "markdown",
      "source": [
        "# Objeto Match: span(), group() y string"
      ],
      "metadata": {
        "id": "rXmwVoV345sp"
      }
    },
    {
      "cell_type": "code",
      "source": [
        "#alabanza = \"Python es un excelente lenguaje y es relativamente simple\"\n",
        "match = re.search(\"ua\", alabanza)\n",
        "print(match)\n",
        "print(\"Posiciones:\", match.span())\n",
        "print(\"Partes donde hubo match:\", match.group())"
      ],
      "metadata": {
        "colab": {
          "base_uri": "https://localhost:8080/"
        },
        "id": "bS3d1oEA46MG",
        "outputId": "3f1ab233-8e9c-44ef-862c-b6221d87f2dc"
      },
      "execution_count": null,
      "outputs": [
        {
          "output_type": "stream",
          "name": "stdout",
          "text": [
            "<re.Match object; span=(27, 29), match='ua'>\n",
            "Posiciones: (27, 29)\n",
            "Partes donde hubo match: ua\n"
          ]
        }
      ]
    },
    {
      "cell_type": "markdown",
      "source": [
        "# split"
      ],
      "metadata": {
        "id": "Y__o38Jb6eBc"
      }
    },
    {
      "cell_type": "code",
      "source": [
        "#alabanza = \"Python es un excelente lenguaje y es relativamente simple\"\n",
        "re.split(\"es\", alabanza)"
      ],
      "metadata": {
        "colab": {
          "base_uri": "https://localhost:8080/"
        },
        "id": "4ZJNahHH6cbu",
        "outputId": "e86c2dbc-acff-42a1-8371-30005c63bad6"
      },
      "execution_count": null,
      "outputs": [
        {
          "output_type": "execute_result",
          "data": {
            "text/plain": [
              "['Python ', ' un excelente lenguaje y ', ' relativamente simple']"
            ]
          },
          "metadata": {},
          "execution_count": 5
        }
      ]
    },
    {
      "cell_type": "markdown",
      "source": [
        "# sub"
      ],
      "metadata": {
        "id": "X0-XNiJi6zE8"
      }
    },
    {
      "cell_type": "code",
      "source": [
        "#usos = \"Me agrada la versatilidad de Python. También uso Python para analizar datos, crear modelos de aprendizaje de máquina y desarrollar aplicaciones Web\"\n",
        "re.sub(\"Python\", \"Julia\", usos)"
      ],
      "metadata": {
        "colab": {
          "base_uri": "https://localhost:8080/",
          "height": 53
        },
        "id": "ffDje6tO6yXx",
        "outputId": "062a1e55-bb0d-4557-9cf9-a4ddde9dc9ba"
      },
      "execution_count": null,
      "outputs": [
        {
          "output_type": "execute_result",
          "data": {
            "text/plain": [
              "'Me agrada la versatilidad de Julia. También uso Julia para analizar datos, crear modelos de aprendizaje de máquina y desarrollar aplicaciones Web'"
            ],
            "application/vnd.google.colaboratory.intrinsic+json": {
              "type": "string"
            }
          },
          "metadata": {},
          "execution_count": 6
        }
      ]
    },
    {
      "cell_type": "markdown",
      "source": [
        "# Metacaracteres\n",
        "\n",
        "* []\tConjunto de caracteres\t\"[a-c]\"\t\n",
        "* \\\tSeñala un caracter especial (e.g., para digitos) o caracter de escape \"\\d\"\t\n",
        "* .\tCualquier caracter (excepto salto de línea)\t\"ho..a\"\t\n",
        "* ^\tInicia con\t\"^Hola\"\t\n",
        "* \\$\tTermina con\t\"todos$\"\t\n",
        "* \\*\tCero o más apariciones \"Mura.*a\"\t\n",
        "* \\+\t1 o más apariciones\t\"Mural.+a\"\t\n",
        "* ?\tCero o una aparición\t\"Mura.?a\"\t\n",
        "* {}\tExactamente un número de apariciones\t\"Mura.{2}a\"\t\n",
        "* |\tUno o el otro\t\"mal|bien\"\t\n",
        "* () Grupo\t\n"
      ],
      "metadata": {
        "id": "NS3J3wBpCh19"
      }
    },
    {
      "cell_type": "code",
      "source": [
        "# relojes = \"El mod32 de los relojes suizos cuesta $17,000 dólares\"\n",
        "# relojes_conversion = \"El mod32 de los relojes suizos cuesta $17,000 dólares o 34,000 pesos\"\n",
        "\n",
        "print(\"\\nTodas las letras entre a y c\")\n",
        "print(re.findall(\"[a-c]\", alabanza))\n",
        "print(\"\\nTodos los digitos\")\n",
        "print(re.findall(\"\\d\", relojes))\n",
        "print(\"\\nTodos lo que NO es digitos\")\n",
        "print(re.findall(\"\\D\", relojes))\n",
        "print(\"\\nTodo lo que tenga una longitud 5 caracteres, con un 'l' central\")\n",
        "print(re.findall(\"..l..\", relojes))\n",
        "print(\"\\nVerificar si inicia con 'El'\")\n",
        "print(re.findall(\"^El\", relojes))\n",
        "print(\"\\nVerificar si termina con 'dólares'\")\n",
        "print(re.findall(\"dólares$\", relojes))\n",
        "print(\"\\nIniciando con la 'e' y terminando con 'os' con o sin algo en medio\")\n",
        "print(re.findall(\"e.*os\", relojes))\n",
        "print(\"\\nIniciando con el '3' y terminando con el '2' con o sin algo en medio\")\n",
        "print(re.findall(\"3.*2\", relojes))\n",
        "print(\"\\nIniciando con el '3' hasta el final (con al menos un caracter más)\")\n",
        "print(re.findall(\"3.+\", relojes))\n",
        "print(\"\\nTodo lo que tenga una longitud 4 o menos caracteres, con una 'e' inicial\")\n",
        "print(re.findall(\"e.?.?.?\", relojes))\n",
        "print(\"\\nTodo lo que que inicie con 'mod3' pero trayéndo los siguientes 3 caracteres\")\n",
        "print(re.findall(\"mod3.{3}\", relojes))\n",
        "print(\"\\nBuscando las palabras 'dólares' o 'pesos'\")\n",
        "print(re.findall(\"dólares|pesos\", relojes_conversion))"
      ],
      "metadata": {
        "colab": {
          "base_uri": "https://localhost:8080/"
        },
        "id": "LRsmcoK1CkNJ",
        "outputId": "e4f2d9a1-f838-4496-f46f-1d818311c7dc"
      },
      "execution_count": null,
      "outputs": [
        {
          "output_type": "stream",
          "name": "stdout",
          "text": [
            "\n",
            "Todas las letras entre a y c\n",
            "['c', 'a', 'a', 'a']\n",
            "\n",
            "Todos los digitos\n",
            "['3', '2', '1', '7', '0', '0', '0']\n",
            "\n",
            "Todos lo que NO es digitos\n",
            "['E', 'l', ' ', 'm', 'o', 'd', ' ', 'd', 'e', ' ', 'l', 'o', 's', ' ', 'r', 'e', 'l', 'o', 'j', 'e', 's', ' ', 's', 'u', 'i', 'z', 'o', 's', ' ', 'c', 'u', 'e', 's', 't', 'a', ' ', '$', ',', ' ', 'd', 'ó', 'l', 'a', 'r', 'e', 's']\n",
            "\n",
            "Todo lo que tenga una longitud 5 caracteres, con un 'l' central\n",
            "['e los', 'reloj', 'dólar']\n",
            "\n",
            "Verificar si inicia con 'El'\n",
            "['El']\n",
            "\n",
            "Verificar si termina con 'dólares'\n",
            "['dólares']\n",
            "\n",
            "Iniciando con la 'e' y terminando con 'os' con o sin algo en medio\n",
            "['e los relojes suizos']\n",
            "\n",
            "Iniciando con el '3' y terminando con el '2' con o sin algo en medio\n",
            "['32']\n",
            "\n",
            "Iniciando con el '3' hasta el final (con al menos un caracter más)\n",
            "['32 de los relojes suizos cuesta $17,000 dólares']\n",
            "\n",
            "Todo lo que tenga una longitud 4 o menos caracteres, con una 'e' inicial\n",
            "['e lo', 'eloj', 'es s', 'esta', 'es']\n",
            "\n",
            "Todo lo que que inicie con 'mod3' pero trayéndo los siguientes 3 caracteres\n",
            "['mod32 d']\n",
            "\n",
            "Buscando las palabras 'dólares' o 'pesos'\n",
            "['dólares', 'pesos']\n"
          ]
        }
      ]
    },
    {
      "cell_type": "markdown",
      "source": [
        "# Caracteres con significado especial\n",
        "\n",
        "* \\A\tMatch si está al inicio \"\\AEl\"\t\n",
        "* \\Z\tMatch si está al final\t\"ares\\Z\"\n",
        "\n",
        "* \\b\tMatch si está al final o al inicio r\"\\bmod“, r\"os\\b\"\t\n",
        "* \\B\tMatch si NO está al final o al inicio r\"\\Bos“, r\"os\\B\"\t\n",
        "\n",
        "* \\d\tMatch si hay digitos\t\"\\d\"\t\n",
        "* \\D\tMatch si NO hay digitos\t\"\\D\"\t\n",
        "\n",
        "* \\s\tMatch si hay un espacio en blanco\t\"\\s\"\t\n",
        "* \\S\tMatch si NO hay un espacio en blanco\t\"\\S\"\t\n",
        "\n",
        "* \\w\tMatch si contiene caracteres (que no sean símbolos) \t\"\\w\"\t\n",
        "* \\W\tMatch si NO contiene caracteres \"\\W\"\t\n",
        "\n"
      ],
      "metadata": {
        "id": "tkMlhAgUVewc"
      }
    },
    {
      "cell_type": "code",
      "source": [
        "# relojes_conversion = \"El mod32 de los relojes suizos cuesta $17,000 dólares o 34,000 pesos\"\n",
        "print(\"\\nBuscando 'El' al inicio de la frase\")\n",
        "print(re.findall(\"\\AEl\", relojes_conversion))\n",
        "print(\"\\nBuscando 'os' al final de la frase\")\n",
        "print(re.findall(\"os\\Z\", relojes_conversion))\n",
        "print(\"\\nBuscando 'mod' al inicio de una palabra\")\n",
        "print(re.findall(r\"\\bmod\", relojes_conversion))\n",
        "print(\"\\nBuscando 'os' al final de una palabra\")\n",
        "print(re.findall(r\"os\\b\", relojes_conversion))\n",
        "print(\"\\nBuscando 'eso' pero no al inicio de una palabra\")\n",
        "print(re.findall(r\"\\Beso\", relojes_conversion))\n",
        "print(\"\\nBuscando 'eso' pero no al final de una palabra\")\n",
        "print(re.findall(r\"eso\\B\", relojes_conversion))\n",
        "print(\"\\nBuscando todos los espacios\")\n",
        "print(re.findall(\"\\s\", relojes_conversion))\n",
        "print(\"\\nBuscando todo lo que no es espacios\")\n",
        "print(re.findall(\"\\S\", relojes_conversion))\n",
        "print(\"\\nBuscando todas las letras y números\")\n",
        "print(re.findall(\"\\w\", relojes_conversion))\n",
        "print(\"\\nBuscando los símbolos (es decir, no letras ni números)\")\n",
        "print(re.findall(\"\\W\", relojes_conversion))"
      ],
      "metadata": {
        "colab": {
          "base_uri": "https://localhost:8080/"
        },
        "id": "KzJ3JcFFVc1-",
        "outputId": "1b97fbb6-7fb3-46ec-da0e-0909fef2eb89"
      },
      "execution_count": null,
      "outputs": [
        {
          "output_type": "stream",
          "name": "stdout",
          "text": [
            "\n",
            "Buscando 'El' al inicio de la frase\n",
            "['El']\n",
            "\n",
            "Buscando 'os' al final de la frase\n",
            "['os']\n",
            "\n",
            "Buscando 'mod' al inicio de una palabra\n",
            "['mod']\n",
            "\n",
            "Buscando 'os' al final de una palabra\n",
            "['os', 'os', 'os']\n",
            "\n",
            "Buscando 'eso' pero no al inicio de una palabra\n",
            "['eso']\n",
            "\n",
            "Buscando 'eso' pero no al final de una palabra\n",
            "['eso']\n",
            "\n",
            "Buscando todos los espacios\n",
            "[' ', ' ', ' ', ' ', ' ', ' ', ' ', ' ', ' ', ' ', ' ']\n",
            "\n",
            "Buscando todo lo que no es espacios\n",
            "['E', 'l', 'm', 'o', 'd', '3', '2', 'd', 'e', 'l', 'o', 's', 'r', 'e', 'l', 'o', 'j', 'e', 's', 's', 'u', 'i', 'z', 'o', 's', 'c', 'u', 'e', 's', 't', 'a', '$', '1', '7', ',', '0', '0', '0', 'd', 'ó', 'l', 'a', 'r', 'e', 's', 'o', '3', '4', ',', '0', '0', '0', 'p', 'e', 's', 'o', 's']\n",
            "\n",
            "Buscando todas las letras y números\n",
            "['E', 'l', 'm', 'o', 'd', '3', '2', 'd', 'e', 'l', 'o', 's', 'r', 'e', 'l', 'o', 'j', 'e', 's', 's', 'u', 'i', 'z', 'o', 's', 'c', 'u', 'e', 's', 't', 'a', '1', '7', '0', '0', '0', 'd', 'ó', 'l', 'a', 'r', 'e', 's', 'o', '3', '4', '0', '0', '0', 'p', 'e', 's', 'o', 's']\n",
            "\n",
            "Buscando los símbolos (es decir, no letras ni números)\n",
            "[' ', ' ', ' ', ' ', ' ', ' ', ' ', '$', ',', ' ', ' ', ' ', ',', ' ']\n"
          ]
        }
      ]
    },
    {
      "cell_type": "markdown",
      "source": [
        "# Conjuntos \n",
        "* [uoz]\tMatch donde (u, o, ó z) estén presentes\t\n",
        "* [a-d]\tMatch para todo str que contenga caracteres entre a y d\n",
        "* [^uoz]\tMatch donde (u, o, ó z) no estén presentesn\t\n",
        "* [123]\tMatch donde (1, 2, ó 3) estén presentes\t\n",
        "* [1-3]\tMatch para todo digito entre 1 y 3\n",
        "* [0-2][0-9]\tMatch para cualquier numeto del 00 al 29\n",
        "* [a-zA-Z] Match para todo caracter entre a y z mayús y minús\n",
        "* [+]\tMatch para cualquier + en la cadena"
      ],
      "metadata": {
        "id": "d_a0B6OdZsmA"
      }
    },
    {
      "cell_type": "code",
      "source": [
        "# relojes_conversion = \"El mod32 de los relojes suizos cuesta $17,000 dólares o 34,000 pesos\"\n",
        "\n",
        "print(\"\\nBuscando la 'u', 'o' o 'z'\")\n",
        "print(re.findall(\"[uoz]\", relojes_conversion))\n",
        "print(\"\\nBuscando todo lo que no sea 'u', 'o' o 'z'\")\n",
        "print(re.findall(\"[^uoz]\", relojes_conversion))\n",
        "print(\"\\nBuscando las letras de la 'a' a la 'd'\")\n",
        "print(re.findall(\"[a-d]\", relojes_conversion))\n",
        "print(\"\\nBuscando el '1', '2', '3' o '4'\")\n",
        "print(re.findall(\"[123]\", relojes_conversion))\n",
        "print(\"\\nBuscando del '1' al '4'\")\n",
        "print(re.findall(\"[1-4]\", relojes_conversion))\n",
        "print(\"\\nBuscando números con formato 00, cuyo primer valor vaya del 0 al 2 y el segundo del 0 al 9\")\n",
        "print(re.findall(\"[0-2][0-9]\", relojes_conversion))\n",
        "print(\"\\nBuscando todas las letras minus y mayus, pero solo las letras\")\n",
        "print(re.findall(\"[a-zA-z]\", relojes_conversion))"
      ],
      "metadata": {
        "colab": {
          "base_uri": "https://localhost:8080/"
        },
        "id": "TtZ72w82Zszm",
        "outputId": "0fd84802-6832-40d4-a335-ebb194c8f536"
      },
      "execution_count": null,
      "outputs": [
        {
          "output_type": "stream",
          "name": "stdout",
          "text": [
            "\n",
            "Buscando la 'u', 'o' o 'z'\n",
            "['o', 'o', 'o', 'u', 'z', 'o', 'u', 'o', 'o']\n",
            "\n",
            "Buscando todo lo que no sea 'u', 'o' o 'z'\n",
            "['E', 'l', ' ', 'm', 'd', '3', '2', ' ', 'd', 'e', ' ', 'l', 's', ' ', 'r', 'e', 'l', 'j', 'e', 's', ' ', 's', 'i', 's', ' ', 'c', 'e', 's', 't', 'a', ' ', '$', '1', '7', ',', '0', '0', '0', ' ', 'd', 'ó', 'l', 'a', 'r', 'e', 's', ' ', ' ', '3', '4', ',', '0', '0', '0', ' ', 'p', 'e', 's', 's']\n",
            "\n",
            "Buscando las letras de la 'a' a la 'd'\n",
            "['d', 'd', 'c', 'a', 'd', 'a']\n",
            "\n",
            "Buscando el '1', '2', '3' o '4'\n",
            "['3', '2', '1', '3']\n",
            "\n",
            "Buscando del '1' al '4'\n",
            "['3', '2', '1', '3', '4']\n",
            "\n",
            "Buscando números con formato 00, cuyo primer valor vaya del 0 al 2 y el segundo del 0 al 9\n",
            "['17', '00', '00']\n",
            "\n",
            "Buscando todas las letras minus y mayus, pero solo las letras\n",
            "['E', 'l', 'm', 'o', 'd', 'd', 'e', 'l', 'o', 's', 'r', 'e', 'l', 'o', 'j', 'e', 's', 's', 'u', 'i', 'z', 'o', 's', 'c', 'u', 'e', 's', 't', 'a', 'd', 'l', 'a', 'r', 'e', 's', 'o', 'p', 'e', 's', 'o', 's']\n"
          ]
        }
      ]
    },
    {
      "cell_type": "markdown",
      "source": [
        "# Otros ejemplos \n",
        "\n"
      ],
      "metadata": {
        "id": "dbcGsIEHgP6S"
      }
    },
    {
      "cell_type": "code",
      "source": [
        "alabanza = \"Python es un excelente lenguaje además Python es relativamente simple\"\n",
        "usos = \"Me agrada la versatilidad de Python. También uso Python para analizar datos, crear modelos de aprendizaje de máquina y desarrollar aplicaciones Web\"\n",
        "relojes = \"El mod32 de los relojes suizos cuesta $17,000 dólares o $34,000 pesos\"\n",
        "\n",
        "print(\"\\nTodos los números\")\n",
        "print(re.findall(\"\\d+\", relojes))\n",
        "print(re.findall(\"[0-9.,]+\", relojes))\n",
        "print(re.findall(\"\\$[0-9.,]+\", relojes))\n",
        "\n",
        "print(\"\\nTodas las palabras\") \n",
        "print(re.findall(\"\\w+\", usos, re.I))\n",
        "print(\"\\nToda palabra que arranque con P mayus y minus en usos\")\n",
        "print(re.findall(r\"\\bP\\w+\", usos, flags=re.IGNORECASE))\n",
        "print(\"\\nToda palabra que arranque con P mayus y minus en alabanza\")\n",
        "print(re.findall(r\"\\bP\\w+\", alabanza, flags=re.IGNORECASE))\n",
        "print(\"\\nToda palabra que arranque con P mayus y minus pero solo al inicio en alabanza\")\n",
        "print(re.findall(\"^P\\w+\", alabanza, flags=re.IGNORECASE))"
      ],
      "metadata": {
        "colab": {
          "base_uri": "https://localhost:8080/"
        },
        "id": "f9xJHsbegPVK",
        "outputId": "3cac23a6-b8bc-476a-8759-b89b4ed94fba"
      },
      "execution_count": null,
      "outputs": [
        {
          "output_type": "stream",
          "name": "stdout",
          "text": [
            "\n",
            "Todos los números\n",
            "['32', '17', '000', '34', '000']\n",
            "['32', '17,000', '34,000']\n",
            "['$17,000', '$34,000']\n",
            "\n",
            "Todas las palabras\n",
            "['Me', 'agrada', 'la', 'versatilidad', 'de', 'Python', 'También', 'uso', 'Python', 'para', 'analizar', 'datos', 'crear', 'modelos', 'de', 'aprendizaje', 'de', 'máquina', 'y', 'desarrollar', 'aplicaciones', 'Web']\n",
            "\n",
            "Toda palabra que arranque con P mayus y minus en usos\n",
            "['Python', 'Python', 'para']\n",
            "\n",
            "Toda palabra que arranque con P mayus y minus en alabanza\n",
            "['Python', 'Python']\n",
            "\n",
            "Toda palabra que arranque con P mayus y minus pero solo al inicio en alabanza\n",
            "['Python']\n"
          ]
        }
      ]
    }
  ],
  "metadata": {
    "anaconda-cloud": {},
    "kernelspec": {
      "display_name": "Python 3 (ipykernel)",
      "language": "python",
      "name": "python3"
    },
    "language_info": {
      "codemirror_mode": {
        "name": "ipython",
        "version": 3
      },
      "file_extension": ".py",
      "mimetype": "text/x-python",
      "name": "python",
      "nbconvert_exporter": "python",
      "pygments_lexer": "ipython3",
      "version": "3.9.7"
    },
    "colab": {
      "provenance": [],
      "collapsed_sections": [],
      "include_colab_link": true
    }
  },
  "nbformat": 4,
  "nbformat_minor": 0
}