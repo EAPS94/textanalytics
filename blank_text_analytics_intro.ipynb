{
  "cells": [
    {
      "cell_type": "markdown",
      "source": [
        "# Un Panorama del Procesamiento y Análisis de Texto"
      ],
      "metadata": {
        "id": "2JH-4_BSDz72"
      }
    },
    {
      "cell_type": "markdown",
      "source": [
        "# Avances\n",
        "\n",
        "* https://beta.openai.com/overview\n",
        "* https://beta.openai.com/playground\n"
      ],
      "metadata": {
        "id": "gQOq3mk_zMJi"
      }
    },
    {
      "cell_type": "markdown",
      "source": [
        "# Vínculos de interés\n",
        "\n",
        "* https://www.nltk.org/data.html\n",
        "* https://www.nltk.org/nltk_data/"
      ],
      "metadata": {
        "id": "2jaxDeCfEVbi"
      }
    },
    {
      "cell_type": "markdown",
      "source": [
        "\n",
        "\n",
        "#Librerías, modelos y lenguajes\n",
        "\n"
      ],
      "metadata": {
        "id": "NkHbGMUhODQK"
      }
    },
    {
      "cell_type": "code",
      "execution_count": null,
      "metadata": {
        "id": "UHMv3plCI-Dm"
      },
      "outputs": [],
      "source": [
        "#!python -m spacy download en_core_web_sm"
      ]
    },
    {
      "cell_type": "markdown",
      "source": [
        "# Raíz (Stem)"
      ],
      "metadata": {
        "id": "7EtmTJzOI7Z5"
      }
    },
    {
      "cell_type": "code",
      "source": [
        "#from nltk.stem import SnowballStemmer\n",
        "#texto = \"My account keeps getting locked, their accounts got locked yesterday, so everyone's access was denied\""
      ],
      "metadata": {
        "id": "JsAxFo-OI7Ni"
      },
      "execution_count": null,
      "outputs": []
    },
    {
      "cell_type": "markdown",
      "source": [
        "#Lemas"
      ],
      "metadata": {
        "id": "nSW9_PWhjlxV"
      }
    },
    {
      "cell_type": "code",
      "source": [
        "#texto = \"My account keeps getting locked, their accounts got locked yesterday, so everyone's access was denied\""
      ],
      "metadata": {
        "id": "I-TEqoaZgQQE"
      },
      "execution_count": null,
      "outputs": []
    },
    {
      "cell_type": "markdown",
      "source": [
        "#Sintáxis y Estructura"
      ],
      "metadata": {
        "id": "52711gH6OU5c"
      }
    },
    {
      "cell_type": "code",
      "execution_count": null,
      "metadata": {
        "id": "pCNQHkbzI-Do"
      },
      "outputs": [],
      "source": [
        "#sentencia = \"The black cat is quick and it is jumping over the friendly dog\""
      ]
    },
    {
      "cell_type": "code",
      "execution_count": null,
      "metadata": {
        "id": "ZVeV0M_kI-Dp"
      },
      "outputs": [],
      "source": []
    },
    {
      "cell_type": "markdown",
      "source": [
        "# Palabras anotadas \"Parts of Speech\" con nltk"
      ],
      "metadata": {
        "id": "UmrzCVuiShqc"
      }
    },
    {
      "cell_type": "code",
      "execution_count": null,
      "metadata": {
        "id": "tqccOv5cI-Dq"
      },
      "outputs": [],
      "source": [
        "#nltk.download(\"averaged_perceptron_tagger\")"
      ]
    },
    {
      "cell_type": "markdown",
      "source": [
        "# Palabras anotadas \"Parts of Speech\" con spacy"
      ],
      "metadata": {
        "id": "pjzlq7OyaNUM"
      }
    },
    {
      "cell_type": "code",
      "execution_count": null,
      "metadata": {
        "id": "4IRbTGTFI-Dq"
      },
      "outputs": [],
      "source": []
    },
    {
      "cell_type": "code",
      "source": [],
      "metadata": {
        "id": "9ULKqlKqRcm4"
      },
      "execution_count": null,
      "outputs": []
    },
    {
      "cell_type": "markdown",
      "source": [
        "#Shallow parsing: palabras ⟵ frases ⟵ cláusulas ⟵ sentencias\n",
        "\n",
        "\n",
        "\n",
        "\n"
      ],
      "metadata": {
        "id": "_KTBbM7gTdgK"
      }
    },
    {
      "cell_type": "code",
      "execution_count": null,
      "metadata": {
        "id": "ARfgiLWsI-Dq"
      },
      "outputs": [],
      "source": [
        "gramatica = \"\"\" NP: {<DT>?<JJ>?<NN.*>}\n",
        "                ADJP: {<JJ>}\n",
        "                ADVP: {<RB.*>}\n",
        "                PP: {<IN>}\n",
        "                VP: {<MD>?<VB.*>+}\"\"\""
      ]
    },
    {
      "cell_type": "code",
      "execution_count": null,
      "metadata": {
        "id": "-7mEz8uJI-Dr"
      },
      "outputs": [],
      "source": [
        "#!pip install svgling"
      ]
    },
    {
      "cell_type": "code",
      "execution_count": null,
      "metadata": {
        "id": "-gediCf6I-Ds"
      },
      "outputs": [],
      "source": [
        "#from spacy import displacy\n"
      ]
    },
    {
      "cell_type": "code",
      "source": [],
      "metadata": {
        "id": "w9e9uLTOafF0"
      },
      "execution_count": null,
      "outputs": []
    },
    {
      "cell_type": "markdown",
      "source": [
        "#Corpus Brown"
      ],
      "metadata": {
        "id": "mTkfoXTukSA-"
      }
    },
    {
      "cell_type": "code",
      "execution_count": null,
      "metadata": {
        "id": "MbUZrtthI-Du"
      },
      "outputs": [],
      "source": [
        "#from nltk.corpus import brown"
      ]
    },
    {
      "cell_type": "markdown",
      "source": [
        "# Acceso a sentencias"
      ],
      "metadata": {
        "id": "zH4zE06jlrcc"
      }
    },
    {
      "cell_type": "code",
      "source": [],
      "metadata": {
        "id": "ds4HxMOHlrmD"
      },
      "execution_count": null,
      "outputs": []
    },
    {
      "cell_type": "markdown",
      "source": [
        "#Tokenización de palabras"
      ],
      "metadata": {
        "id": "aYFc7xvClasE"
      }
    },
    {
      "cell_type": "code",
      "execution_count": null,
      "metadata": {
        "id": "DfVeum1rI-Du"
      },
      "outputs": [],
      "source": []
    },
    {
      "cell_type": "markdown",
      "source": [
        "# Palabras anotadas \"Parts of Speech\""
      ],
      "metadata": {
        "id": "vfbz6DtKligV"
      }
    },
    {
      "cell_type": "code",
      "execution_count": null,
      "metadata": {
        "id": "sROMwQf9I-Dv"
      },
      "outputs": [],
      "source": []
    },
    {
      "cell_type": "markdown",
      "source": [
        "# Extracción de sustantivos"
      ],
      "metadata": {
        "id": "BU4oNJPcmF0V"
      }
    },
    {
      "cell_type": "code",
      "execution_count": null,
      "metadata": {
        "id": "aviOCNYBI-Dv"
      },
      "outputs": [],
      "source": []
    },
    {
      "cell_type": "markdown",
      "source": [
        "# Distribución de Frecuencias: Los sustantivos más utilizados"
      ],
      "metadata": {
        "id": "XQnGM7oxmQYQ"
      }
    },
    {
      "cell_type": "code",
      "execution_count": null,
      "metadata": {
        "id": "QPtdvv1zI-Dw"
      },
      "outputs": [],
      "source": []
    },
    {
      "cell_type": "markdown",
      "source": [
        "# Corpus Reuters"
      ],
      "metadata": {
        "id": "y1rQqW15CdJ2"
      }
    },
    {
      "cell_type": "code",
      "execution_count": null,
      "metadata": {
        "id": "5h5vTqaRI-Dw"
      },
      "outputs": [],
      "source": [
        "#from nltk.corpus import reuters"
      ]
    },
    {
      "cell_type": "markdown",
      "source": [
        "# Reuters - Entrenamiento y Prueba"
      ],
      "metadata": {
        "id": "nUOIq8M8xqA5"
      }
    },
    {
      "cell_type": "code",
      "execution_count": null,
      "metadata": {
        "id": "EZssRB_-I-Dw"
      },
      "outputs": [],
      "source": []
    },
    {
      "cell_type": "markdown",
      "source": [
        "#Tokenización de sentencias"
      ],
      "metadata": {
        "id": "o77RsVqyC0Ko"
      }
    },
    {
      "cell_type": "code",
      "execution_count": null,
      "metadata": {
        "id": "7Z_W4x-LI-Dx"
      },
      "outputs": [],
      "source": [
        "#nltk.download(\"punkt\")"
      ]
    },
    {
      "cell_type": "markdown",
      "source": [
        "# Acceso a identificadores de archivos"
      ],
      "metadata": {
        "id": "5hx8p7VoDAYF"
      }
    },
    {
      "cell_type": "code",
      "execution_count": null,
      "metadata": {
        "id": "T4xQRTZpI-Dx"
      },
      "outputs": [],
      "source": []
    },
    {
      "cell_type": "code",
      "execution_count": null,
      "metadata": {
        "id": "kuBa09U6I-Dx"
      },
      "outputs": [],
      "source": []
    },
    {
      "cell_type": "markdown",
      "source": [
        "# Semántica: sinónimos con WordNet"
      ],
      "metadata": {
        "id": "JPsDpzA8x-v7"
      }
    },
    {
      "cell_type": "code",
      "execution_count": null,
      "metadata": {
        "id": "scu_C7P5I-Dx"
      },
      "outputs": [],
      "source": [
        "#from nltk.corpus import wordnet as wn\n",
        "#nltk.download(\"wordnet\")\n",
        "#nltk.download(\"omw\")\n"
      ]
    },
    {
      "cell_type": "markdown",
      "source": [
        "# Detalles Semánticos"
      ],
      "metadata": {
        "id": "kOWCPz86DXbP"
      }
    },
    {
      "cell_type": "code",
      "execution_count": null,
      "metadata": {
        "id": "Z6_iT__oI-Dy"
      },
      "outputs": [],
      "source": []
    }
  ],
  "metadata": {
    "anaconda-cloud": {},
    "kernelspec": {
      "display_name": "Python 3",
      "language": "python",
      "name": "python3"
    },
    "language_info": {
      "codemirror_mode": {
        "name": "ipython",
        "version": 3
      },
      "file_extension": ".py",
      "mimetype": "text/x-python",
      "name": "python",
      "nbconvert_exporter": "python",
      "pygments_lexer": "ipython3",
      "version": "3.6.5"
    },
    "colab": {
      "provenance": [],
      "collapsed_sections": [
        "2JH-4_BSDz72",
        "gQOq3mk_zMJi",
        "2jaxDeCfEVbi"
      ]
    }
  },
  "nbformat": 4,
  "nbformat_minor": 0
}