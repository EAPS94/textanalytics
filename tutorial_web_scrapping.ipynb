{
  "nbformat": 4,
  "nbformat_minor": 0,
  "metadata": {
    "colab": {
      "provenance": [],
      "collapsed_sections": [],
      "authorship_tag": "ABX9TyNKEDvWm/we71p3TTBlKfIl",
      "include_colab_link": true
    },
    "kernelspec": {
      "name": "python3",
      "display_name": "Python 3"
    },
    "language_info": {
      "name": "python"
    }
  },
  "cells": [
    {
      "cell_type": "markdown",
      "metadata": {
        "id": "view-in-github",
        "colab_type": "text"
      },
      "source": [
        "<a href=\"https://colab.research.google.com/github/joseogg/textanalytics/blob/main/tutorial_web_scrapping.ipynb\" target=\"_parent\"><img src=\"https://colab.research.google.com/assets/colab-badge.svg\" alt=\"Open In Colab\"/></a>"
      ]
    },
    {
      "cell_type": "markdown",
      "source": [
        "# Descargar Páginas Web"
      ],
      "metadata": {
        "id": "MKd3YNO3hESC"
      }
    },
    {
      "cell_type": "code",
      "source": [
        "import requests\n",
        "\n",
        "url = \"https://dai.itam.mx/\"\n",
        "itam_html = requests.get(url)\n",
        "print(itam_html.text)"
      ],
      "metadata": {
        "id": "FixKtYPEg_t8"
      },
      "execution_count": null,
      "outputs": []
    },
    {
      "cell_type": "markdown",
      "source": [
        "# Acceder a elementos de la página Web"
      ],
      "metadata": {
        "id": "Ay_lH98Bh-c3"
      }
    },
    {
      "cell_type": "code",
      "source": [
        "from bs4 import BeautifulSoup\n",
        "#\"html.parser\"\n",
        "#\"html5lib\"\n",
        "sopa = BeautifulSoup(itam_html.text, \"html5lib\")\n",
        "print(sopa.title)\n",
        "print(sopa.body)\n",
        "print(sopa.find(\"h3\"))\n",
        "print(sopa.findAll(\"h3\"))\n",
        "for elemento in sopa.findAll(\"h3\"):\n",
        "  print(type(elemento), elemento)\n",
        "  if elemento.has_attr(\"style\"):\n",
        "    print(elemento[\"style\"])\n",
        "print(sopa.findAll(\"p\", class_=\"rtejustify\"))\n",
        "print(sopa.findAll(\"h3\", string=\"Queremos permanecer en contacto. Déjanos tus datos.\" ))\n",
        "print(sopa.get_text())"
      ],
      "metadata": {
        "id": "kKJmGww5h-i6"
      },
      "execution_count": null,
      "outputs": []
    }
  ]
}